{
 "cells": [
  {
   "cell_type": "code",
   "execution_count": 2,
   "metadata": {},
   "outputs": [
    {
     "name": "stdout",
     "output_type": "stream",
     "text": [
      "deleted job a742\n",
      "deleted job a3212\n",
      "deleted job a3215\n",
      "deleted job a3226\n",
      "deleted job a3184\n",
      "deleted job a3219\n",
      "\n",
      "done.\n"
     ]
    }
   ],
   "source": [
    "from arc.main import delete_all_arc_jobs\n",
    "\n",
    "server1 = 'pharos'\n",
    "server2 = 'rmg'\n",
    "\n",
    "delete_all_arc_jobs(server_list=[server1, server2])"
   ]
  },
  {
   "cell_type": "code",
   "execution_count": null,
   "metadata": {},
   "outputs": [],
   "source": []
  }
 ],
 "metadata": {
  "kernelspec": {
   "display_name": "rmg_env",
   "language": "python",
   "name": "rmg_env"
  },
  "language_info": {
   "codemirror_mode": {
    "name": "ipython",
    "version": 2
   },
   "file_extension": ".py",
   "mimetype": "text/x-python",
   "name": "python",
   "nbconvert_exporter": "python",
   "pygments_lexer": "ipython2",
   "version": "2.7.15"
  }
 },
 "nbformat": 4,
 "nbformat_minor": 2
}
