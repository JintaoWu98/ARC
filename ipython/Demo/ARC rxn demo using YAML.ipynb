{
 "cells": [
  {
   "cell_type": "markdown",
   "metadata": {},
   "source": [
    "# ARC Reaction Demo using YAML files"
   ]
  },
  {
   "cell_type": "markdown",
   "metadata": {},
   "source": [
    "Here we load our species objects from YAML files.\n",
    "\n",
    "Note that no electronic structure job needs to be spawned. Of course, users can load only some of the species (or TSs) from YAML files and let ARC calculate the rest.\n",
    "\n",
    "YAML files are generated automatically by <a href='http://reactionmechanismgenerator.github.io/RMG-Py/users/arkane/input.html#option-3-automatically-parse-yaml-files'>Arkane</a>, which means that ARC generates them as well. Look for them in the respective species / TS folder. These files compile the required QM information from all relevant jobs, so it's convinient to re-use the same species in a new ARC project w/o recalculating it (so saving computatinal resources). Also, this makes sharing species information much easier."
   ]
  },
  {
   "cell_type": "markdown",
   "metadata": {},
   "source": [
    "### imports"
   ]
  },
  {
   "cell_type": "code",
   "execution_count": null,
   "metadata": {},
   "outputs": [],
   "source": [
    "import rmgpy\n",
    "from rmgpy.molecule.molecule import *\n",
    "from rmgpy.species import Species\n",
    "from arc.species import ARCSpecies\n",
    "from arc.reaction import ARCReaction\n",
    "from IPython.display import display\n",
    "import arc\n",
    "import matplotlib.pyplot as plt\n",
    "%matplotlib notebook"
   ]
  },
  {
   "cell_type": "markdown",
   "metadata": {},
   "source": [
    "### Here we define ARCSpecies using YAML files"
   ]
  },
  {
   "cell_type": "code",
   "execution_count": null,
   "metadata": {},
   "outputs": [],
   "source": [
    "# Define empty lists for convinience:\n",
    "arc_species_list = list()\n",
    "arc_rxn_list = list()\n",
    "\n",
    "\"\"\"\n",
    "Arguments for ARCSpecies:\n",
    "------------------------\n",
    "label (``str``)\n",
    "is_ts (True/False, default is False)\n",
    "rmg_species (an RMG `Species` object)\n",
    "mol (an RMG `Molecule` object)\n",
    "xyz (an xyz guess)\n",
    "multiplicity (``int``, trivial value, 1 or 2, automatically determined)\n",
    "charge (``int``, default: 0)\n",
    "smiles (SMILES structure)\n",
    "adjlist (RMG Adjacency List structure)\n",
    "bond_corrections (BAC dictionary for Arkane)\n",
    "generate_thermo (True/False, default is True)\n",
    "yml_path (path to the YAML file)\n",
    "ts_methods (a list with TS guess methods, default is in settings.py)\n",
    "\n",
    "Note: A TS ARCSpecies object does not have to be created (unless the user would like to explicitly set arguments),\n",
    "      it will be automatically created per ARCReaction object if not already defined.\n",
    "\"\"\"\n",
    "\n",
    "arc_species_list.append(ARCSpecies(label='ethanol', yml_path='yml/ethanol.yml'))\n",
    "arc_species_list.append(ARCSpecies(label='OH', yml_path='yml/OH.yml'))\n",
    "arc_species_list.append(ARCSpecies(label='o_ethanol_rad', yml_path='yml/o_ethanol_rad.yml'))\n",
    "arc_species_list.append(ARCSpecies(label='H2O', yml_path='yml/H2O.yml'))\n",
    "\n",
    "arc_species_list.append(ARCSpecies(label='TS', is_ts=True, yml_path='yml/ethanol + OH = o_ethanol_rad + H2O.yml'))\n",
    "\n",
    "\"\"\"\n",
    "Arguments for ARCReaction:\n",
    "-------------------------\n",
    "label (``str``) should be in the format 'reactant1 + reactant2(optional) <=> product1 + product2(optional)'\n",
    "reactants (A list of labels corresponding to previously defined ARCSpecies objects)\n",
    "products (A list of labels corresponding to previously defined ARCSpecies objects)\n",
    "ts_label (A label corresponding to an ARCSpecies object)\n",
    "rmg_reaction (An RMG `Reaction` object)\n",
    "ts_methods (a list with TS guess methods, default is in settings.py, passed to the TS ARCSpecies object)\n",
    "ts_xyz_guess (a list of xyz guesses)\n",
    "multiplicity (trivial values automatically determined from reactants/products multiplicities)\n",
    "charge (automatically determined from reactants)\n",
    "\"\"\"\n",
    "\n",
    "arc_rxn_list.append(ARCReaction(label='ethanol + OH <=> o_ethanol_rad + H2O', ts_label='TS', ts_methods=[]))\n",
    "\n",
    "for spc in arc_species_list:\n",
    "    if not spc.is_ts:\n",
    "        display(spc.mol)"
   ]
  },
  {
   "cell_type": "markdown",
   "metadata": {},
   "source": [
    "### Run ARC:"
   ]
  },
  {
   "cell_type": "code",
   "execution_count": null,
   "metadata": {
    "scrolled": false
   },
   "outputs": [],
   "source": [
    "\"\"\"\n",
    "Arguments for ARC:\n",
    "-----------------\n",
    "project (``str``, the project name. Should be a valid name for a folder)\n",
    "arc_species_list (A list of ARCSpecies and RMF `Species` objects)\n",
    "arc_rxn_list (A list of ARCReacrion and RMF `Reaction` objects)\n",
    "level_of_theory (e.g., `CCSD(T)-F12a/aug-cc-pVTZ//B3LYP/6-311++G(3df,3pd)` or `CBS-QB3`...)\n",
    "conformer_level\n",
    "composite_method (either pass the composite method here, or in `level_of_theory`)\n",
    "opt_level\n",
    "freq_level (set to `opt_level` if not specified)\n",
    "sp_level\n",
    "scan_level\n",
    "ts_guess_level\n",
    "fine (True/False, default is True)\n",
    "generate_conformers (True/False, default is True)\n",
    "scan_rotors (True/False, default is True)\n",
    "use_bac (True/False for using bond additivity corrections, default is True)\n",
    "model_chemistry (should be a valid Arkane \"model chemistry\")\n",
    "ess_settings (a software:server dictionary, overrides ARC's servers scanner)\n",
    "initial_trsh (an initial troubleshooting method for jobs)\n",
    "t_min (float, minimal T for kineics computations, default: 300)\n",
    "t_max (float, maximal T for kineics computations, default: 3000)\n",
    "t_count (int The number of temperature points between t_min and t_max for kinetics computations)\n",
    "verbose (logging verbosity)\n",
    "project_directory (A path to the project directory, defaults to ARC/Projects/<project name>)\n",
    "\"\"\"\n",
    "\n",
    "arc0 = arc.ARC(project='rxn_tst13', arc_species_list=arc_species_list,\n",
    "              arc_rxn_list=arc_rxn_list, scan_rotors=False, fine=False)\n",
    "arc0.execute()"
   ]
  }
 ],
 "metadata": {
  "kernelspec": {
   "display_name": "Python 2",
   "language": "python",
   "name": "python2"
  },
  "language_info": {
   "codemirror_mode": {
    "name": "ipython",
    "version": 2
   },
   "file_extension": ".py",
   "mimetype": "text/x-python",
   "name": "python",
   "nbconvert_exporter": "python",
   "pygments_lexer": "ipython2",
   "version": "2.7.16"
  }
 },
 "nbformat": 4,
 "nbformat_minor": 2
}
