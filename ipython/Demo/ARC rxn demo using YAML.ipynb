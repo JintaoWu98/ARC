{
 "cells": [
  {
   "cell_type": "markdown",
   "metadata": {},
   "source": [
    "# ARC Reaction Demo using YAML files"
   ]
  },
  {
   "cell_type": "markdown",
   "metadata": {},
   "source": [
    "Here we load our species objects from YAML files.\n",
    "\n",
    "Note that no electronic structure job needs to be spawned. Of course, users can load only some of the species (or TSs) from YAML files and let ARC calculate the rest.\n",
    "\n",
    "YAML files are generated automatically by <a href='http://reactionmechanismgenerator.github.io/RMG-Py/users/arkane/input.html#option-3-automatically-parse-yaml-files'>Arkane</a>, which means that ARC generates them as well. Look for them in the respective species / TS folder. These files compile the required QM information from all relevant jobs, so it's convinient to re-use the same species in a new ARC project w/o recalculating it (so saving computatinal resources). Also, this makes sharing species information much easier."
   ]
  },
  {
   "cell_type": "markdown",
   "metadata": {},
   "source": [
    "### imports"
   ]
  },
  {
   "cell_type": "code",
   "execution_count": null,
   "metadata": {},
   "outputs": [],
   "source": [
    "import rmgpy\n",
    "from rmgpy.molecule.molecule import *\n",
    "from rmgpy.species import Species\n",
    "from arc.species import ARCSpecies\n",
    "from arc.reaction import ARCReaction\n",
    "from IPython.display import display\n",
    "import arc\n",
    "import matplotlib.pyplot as plt\n",
    "%matplotlib notebook\n",
    "%matplotlib inline"
   ]
  },
  {
   "cell_type": "markdown",
   "metadata": {},
   "source": [
    "### Here we define ARCSpecies using YAML files"
   ]
  },
  {
   "cell_type": "code",
   "execution_count": null,
   "metadata": {},
   "outputs": [],
   "source": [
    "# Define empty lists for convenience:\n",
    "arc_species_list = list()\n",
    "arc_rxn_list = list()\n",
    "\n",
    "arc_species_list.append(ARCSpecies(label='ethanol', yml_path='yml/ethanol.yml'))\n",
    "arc_species_list.append(ARCSpecies(label='OH', yml_path='yml/OH.yml'))\n",
    "arc_species_list.append(ARCSpecies(label='o_ethanol_rad', yml_path='yml/o_ethanol_rad.yml'))\n",
    "arc_species_list.append(ARCSpecies(label='H2O', yml_path='yml/H2O.yml'))\n",
    "\n",
    "arc_species_list.append(ARCSpecies(label='TS', is_ts=True, yml_path='yml/ethanol + OH = o_ethanol_rad + H2O.yml'))\n",
    "\n",
    "arc_rxn_list.append(ARCReaction(label='ethanol + OH <=> o_ethanol_rad + H2O', ts_label='TS', ts_methods=[]))"
   ]
  },
  {
   "cell_type": "markdown",
   "metadata": {},
   "source": [
    "### Run ARC:"
   ]
  },
  {
   "cell_type": "code",
   "execution_count": null,
   "metadata": {
    "scrolled": false
   },
   "outputs": [],
   "source": [
    "job_types = {'conformers': True, 'opt': True, 'fine_grid': False, 'freq': True, 'bde': False,\n",
    "             'sp': True, 'rotors': False, 'irc': False}\n",
    "\n",
    "arc0 = arc.ARC(project='rxn_tst13', arc_species_list=arc_species_list,\n",
    "              arc_rxn_list=arc_rxn_list, job_types=job_types)\n",
    "arc0.execute()"
   ]
  }
 ],
 "metadata": {
  "kernelspec": {
   "display_name": "Python 3",
   "language": "python",
   "name": "python3"
  },
  "language_info": {
   "codemirror_mode": {
    "name": "ipython",
    "version": 3
   },
   "file_extension": ".py",
   "mimetype": "text/x-python",
   "name": "python",
   "nbconvert_exporter": "python",
   "pygments_lexer": "ipython3",
   "version": "3.7.6"
  },
  "pycharm": {
   "stem_cell": {
    "cell_type": "raw",
    "metadata": {
     "collapsed": false
    },
    "source": []
   }
  }
 },
 "nbformat": 4,
 "nbformat_minor": 2
}
