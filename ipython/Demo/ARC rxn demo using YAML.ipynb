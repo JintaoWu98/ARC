{
 "cells": [
  {
   "cell_type": "markdown",
   "metadata": {},
   "source": [
    "# ARC Reaction Demo using YAML files"
   ]
  },
  {
   "cell_type": "markdown",
   "metadata": {},
   "source": [
    "Here we load our species objects from YAML files.\n",
    "\n",
    "Note that no electronic structure job needs to be spawned. Of course, users can load only some of the species (or TSs) from YAML files and let ARC calculate the rest.\n",
    "\n",
    "YAML files are generated automatically by <a href='http://reactionmechanismgenerator.github.io/RMG-Py/users/arkane/input.html#option-3-automatically-parse-yaml-files'>Arkane</a>, which means that ARC generates them as well. Look for them in the respective species / TS folder. These files compile the required QM information from all relevant jobs, so it's convinient to re-use the same species in a new ARC project w/o recalculating it (so saving computatinal resources). Also, this makes sharing species information much easier."
   ]
  },
  {
   "cell_type": "markdown",
   "metadata": {},
   "source": [
    "### imports"
   ]
  },
  {
   "cell_type": "code",
   "execution_count": 1,
   "metadata": {},
   "outputs": [],
   "source": [
    "from arc.species import ARCSpecies\n",
    "from arc.reaction import ARCReaction\n",
    "from IPython.display import display\n",
    "import arc\n",
    "import matplotlib.pyplot as plt\n",
    "%matplotlib notebook\n",
    "%matplotlib inline"
   ]
  },
  {
   "cell_type": "markdown",
   "metadata": {},
   "source": [
    "### Here we define ARCSpecies using YAML files"
   ]
  },
  {
   "cell_type": "code",
   "execution_count": 2,
   "metadata": {},
   "outputs": [],
   "source": [
    "species = list()\n",
    "reactions = list()\n",
    "\n",
    "species.append(ARCSpecies(label='ethanol', yml_path='yml/ethanol.yml'))\n",
    "species.append(ARCSpecies(label='OH', yml_path='yml/OH.yml'))\n",
    "species.append(ARCSpecies(label='o_ethanol_rad', yml_path='yml/o_ethanol_rad.yml'))\n",
    "species.append(ARCSpecies(label='H2O', yml_path='yml/H2O.yml'))\n",
    "\n",
    "species.append(ARCSpecies(label='TS', is_ts=True, yml_path='yml/ethanol + OH = o_ethanol_rad + H2O.yml'))\n",
    "\n",
    "reactions.append(ARCReaction(label='ethanol + OH <=> o_ethanol_rad + H2O', ts_label='TS', ts_methods=[]))"
   ]
  },
  {
   "cell_type": "markdown",
   "metadata": {},
   "source": [
    "### Run ARC:"
   ]
  },
  {
   "cell_type": "code",
   "execution_count": null,
   "metadata": {
    "scrolled": false
   },
   "outputs": [
    {
     "name": "stdout",
     "output_type": "stream",
     "text": [
      "ARC execution initiated on Sun May 31 08:50:21 2020\n",
      "\n",
      "###############################################################\n",
      "#                                                             #\n",
      "#                 Automatic Rate Calculator                   #\n",
      "#                            ARC                              #\n",
      "#                                                             #\n",
      "#   Version: 1.1.0                                            #\n",
      "#                                                             #\n",
      "###############################################################\n",
      "\n",
      "The current git HEAD for ARC is:\n",
      "    cd18492a83d6e3bb7a5d68331d50d9b2dbc4985e\n",
      "    Sun May 31 08:47:59 2020 -0400\n",
      "    (running on the level branch)\n",
      "\n",
      "Starting project rxn_tst\n",
      "\n",
      "Using the following ESS settings:\n",
      "{'gaussian': ['local', 'server2'],\n",
      " 'molpro': ['server2'],\n",
      " 'onedmin': ['server1'],\n",
      " 'orca': ['local'],\n",
      " 'qchem': ['server1'],\n",
      " 'terachem': ['server1']}\n",
      "\n",
      "\n",
      "\n",
      "Using the following levels of theory:\n",
      "\n",
      "Conformers: (default) wb97xd/def2svp, software: gaussian (dft)\n",
      "TS guesses: (default) wb97xd/def2svp, software: gaussian (dft)\n",
      "Geometry optimization: (default) wb97xd/def2tzvp, software: gaussian (dft)\n",
      "Frequencies: (user-defined opt) wb97xd/def2tzvp, software: gaussian (dft)\n",
      "Energy: (default) ccsd(t)-f12/cc-pvtz-f12, software: molpro (wavefunction)\n",
      "Warning: Not performing rotor scans, since it was not requested by the user. This might compromise finding the best conformer, as dihedral angles won't be corrected. Also, the calculated entropy and heat capacity won't be accurate.\n",
      "Warning: Not running IRC computations, since it was not requested by the user.\n",
      "\n",
      "\n",
      "Warning: Not using a fine DFT grid for geometry optimization jobs\n",
      "\n",
      "\n",
      "\n",
      "\n",
      "Considering species: ethanol\n"
     ]
    },
    {
     "data": {
      "image/png": "[encoded data removed]",
      "text/plain": [
       "Molecule(smiles=\"CCO\")"
      ]
     },
     "metadata": {},
     "output_type": "display_data"
    },
    {
     "name": "stdout",
     "output_type": "stream",
     "text": [
      "Considering species: OH\n"
     ]
    },
    {
     "data": {
      "image/png": "[encoded data removed]",
      "text/plain": [
       "Molecule(smiles=\"[OH]\")"
      ]
     },
     "metadata": {},
     "output_type": "display_data"
    },
    {
     "name": "stdout",
     "output_type": "stream",
     "text": [
      "Considering species: o_ethanol_rad\n"
     ]
    },
    {
     "data": {
      "image/png": "[encoded data removed]",
      "text/plain": [
       "Molecule(smiles=\"CC[O]\")"
      ]
     },
     "metadata": {},
     "output_type": "display_data"
    },
    {
     "name": "stdout",
     "output_type": "stream",
     "text": [
      "Considering species: H2O\n"
     ]
    },
    {
     "data": {
      "image/png": "[encoded data removed]",
      "text/plain": [
       "Molecule(smiles=\"O\")"
      ]
     },
     "metadata": {},
     "output_type": "display_data"
    },
    {
     "name": "stdout",
     "output_type": "stream",
     "text": [
      "Considering transition state: TS\n",
      "\n",
      "\n",
      "\n",
      "Loading RMG's families...\n",
      "\n",
      "\n",
      "\n",
      "Considering reaction: ethanol + OH <=> o_ethanol_rad + H2O\n",
      "(identified as belonging to RMG family H_Abstraction, which is its own reverse)\n"
     ]
    },
    {
     "data": {
      "image/png": "[encoded data removed]",
      "text/plain": [
       "Reaction(reactants=[Species(label=\"ethanol\", molecule=[Molecule(smiles=\"CCO\")], molecular_weight=(46.0684,'amu')), Species(label=\"OH\", molecule=[Molecule(smiles=\"[OH]\")], molecular_weight=(17.0073,'amu'))], products=[Species(label=\"o_ethanol_rad\", molecule=[Molecule(smiles=\"CC[O]\")], molecular_weight=(45.0605,'amu')), Species(label=\"H2O\", molecule=[Molecule(smiles=\"O\")], molecular_weight=(18.0153,'amu'))])"
      ]
     },
     "metadata": {},
     "output_type": "display_data"
    },
    {
     "name": "stdout",
     "output_type": "stream",
     "text": [
      "Setting multiplicity of reaction ethanol + OH <=> o_ethanol_rad + H2O to 2\n",
      "Reaction ethanol + OH <=> o_ethanol_rad + H2O has the following path energies:\n",
      "Reactants: 71.46 kJ/mol\n",
      "TS: 75.24 kJ/mol\n",
      "Products: 0.00 kJ/mol\n",
      "Calculating rate for reaction ethanol + OH <=> o_ethanol_rad + H2O using the modified three-parameter Arrhenius equation k = A * (T/T0)^n * exp(-Ea/RT).\n",
      "\n",
      "\n",
      "\n",
      "kinetics(\n",
      "    label = 'ethanol + OH <=> o_ethanol_rad + H2O',\n",
      "    kinetics = Arrhenius(\n",
      "        A = (91977.9, 'cm^3/(mol*s)'),\n",
      "        n = 2.41969,\n",
      "        Ea = (\n",
      "            -0.235185,\n",
      "            'kJ/mol',\n",
      "        ),\n",
      "        T0 = (1, 'K'),\n",
      "        Tmin = (300, 'K'),\n",
      "        Tmax = (3000, 'K'),\n",
      "        comment = 'Fitted to 50 data points; dA = *|/ 1.03035, dn = +|- 0.00389451, dEa = +|- 0.0222716 kJ/mol',\n",
      "    ),\n",
      ")\n",
      "\n",
      "\n",
      "\n",
      "\n",
      "\n",
      "\n",
      "\n",
      "Thermodynamics for ethanol:\n",
      "  Enthalpy of formation (298 K)   =   -56.820 kcal/mol\n",
      "  Entropy of formation (298 K)    =    66.022 cal/(mol*K)\n",
      "   =========== =========== =========== =========== ===========\n",
      "   Temperature Heat cap.   Enthalpy    Entropy     Free energy\n",
      "   (K)         (cal/mol*K) (kcal/mol)  (cal/mol*K) (kcal/mol)\n",
      "   =========== =========== =========== =========== ===========\n",
      "           300      16.146     -56.788      66.130     -76.627\n",
      "           400      19.933     -54.982      71.297     -83.501\n",
      "           500      23.429     -52.811      76.128     -90.875\n",
      "           600      26.516     -50.310      80.678     -98.718\n",
      "           800      31.573     -44.479      89.032    -115.704\n",
      "          1000      35.397     -37.763      96.508    -134.272\n",
      "          1500      41.258     -18.424     112.111    -186.591\n",
      "          2000      44.231       3.021     124.430    -245.838\n",
      "          2400      45.744      21.033     132.635    -297.292\n",
      "   =========== =========== =========== =========== ===========\n",
      "\n",
      "\n",
      "\n",
      "\n",
      "\n",
      "\n",
      "Thermodynamics for OH:\n",
      "  Enthalpy of formation (298 K)   =     6.653 kcal/mol\n",
      "  Entropy of formation (298 K)    =    42.580 cal/(mol*K)\n",
      "   =========== =========== =========== =========== ===========\n",
      "   Temperature Heat cap.   Enthalpy    Entropy     Free energy\n",
      "   (K)         (cal/mol*K) (kcal/mol)  (cal/mol*K) (kcal/mol)\n",
      "   =========== =========== =========== =========== ===========\n",
      "           300       6.954       6.667      42.627      -6.122\n",
      "           400       6.946       7.361      44.626     -10.489\n",
      "           500       6.952       8.056      46.176     -15.032\n",
      "           600       6.978       8.753      47.446     -19.715\n",
      "           800       7.094      10.158      49.467     -29.415\n",
      "          1000       7.273      11.594      51.069     -39.474\n",
      "          1500       7.749      15.351      54.109     -65.812\n",
      "          2000       8.132      19.328      56.394     -93.460\n",
      "          2400       8.333      22.624      57.896    -116.326\n",
      "   =========== =========== =========== =========== ===========\n",
      "\n",
      "\n",
      "\n",
      "\n",
      "\n",
      "\n",
      "Thermodynamics for o_ethanol_rad:\n",
      "  Enthalpy of formation (298 K)   =    -8.370 kcal/mol\n",
      "  Entropy of formation (298 K)    =    66.927 cal/(mol*K)\n",
      "   =========== =========== =========== =========== ===========\n",
      "   Temperature Heat cap.   Enthalpy    Entropy     Free energy\n",
      "   (K)         (cal/mol*K) (kcal/mol)  (cal/mol*K) (kcal/mol)\n",
      "   =========== =========== =========== =========== ===========\n",
      "           300      15.905      -8.338      67.033     -28.448\n",
      "           400      18.977      -6.594      72.031     -35.406\n",
      "           500      21.929      -4.547      76.586     -42.840\n",
      "           600      24.640      -2.216      80.828     -50.713\n",
      "           800      29.089       3.180      88.559     -67.667\n",
      "          1000      32.254       9.333      95.410     -86.078\n",
      "          1500      37.087      26.807     109.515    -137.465\n",
      "          2000      39.527      46.025     120.556    -195.086\n",
      "          2400      40.684      62.083     127.871    -244.808\n",
      "   =========== =========== =========== =========== ===========\n",
      "\n",
      "\n",
      "\n",
      "\n",
      "\n",
      "\n",
      "Thermodynamics for H2O:\n",
      "  Enthalpy of formation (298 K)   =   -58.470 kcal/mol\n",
      "  Entropy of formation (298 K)    =    45.085 cal/(mol*K)\n",
      "   =========== =========== =========== =========== ===========\n",
      "   Temperature Heat cap.   Enthalpy    Entropy     Free energy\n",
      "   (K)         (cal/mol*K) (kcal/mol)  (cal/mol*K) (kcal/mol)\n",
      "   =========== =========== =========== =========== ===========\n",
      "           300       8.047     -58.454      45.139     -71.995\n",
      "           400       8.197     -57.642      47.473     -76.631\n",
      "           500       8.405     -56.812      49.324     -81.474\n",
      "           600       8.661     -55.959      50.878     -86.486\n",
      "           800       9.250     -54.169      53.449     -96.928\n",
      "          1000       9.833     -52.260      55.577    -107.837\n",
      "          1500      11.094     -47.015      59.813    -136.734\n",
      "          2000      11.992     -41.227      63.137    -167.501\n",
      "          2400      12.456     -36.331      65.367    -193.212\n",
      "   =========== =========== =========== =========== ===========\n",
      "\n",
      "\n",
      "\n",
      "\n",
      "\n",
      "Loading the RMG database...\n"
     ]
    }
   ],
   "source": [
    "job_types = {'conformers': True, 'opt': True, 'fine_grid': False, 'freq': True, 'bde': False,\n",
    "             'sp': True, 'rotors': False, 'irc': False}\n",
    "\n",
    "arc = arc.ARC(project='rxn_tst',\n",
    "               species=species,\n",
    "               reactions=reactions,\n",
    "               job_types=job_types,\n",
    "              )\n",
    "arc.execute()"
   ]
  },
  {
   "cell_type": "code",
   "execution_count": null,
   "metadata": {},
   "outputs": [],
   "source": []
  }
 ],
 "metadata": {
  "kernelspec": {
   "display_name": "Python 3",
   "language": "python",
   "name": "python3"
  },
  "language_info": {
   "codemirror_mode": {
    "name": "ipython",
    "version": 3
   },
   "file_extension": ".py",
   "mimetype": "text/x-python",
   "name": "python",
   "nbconvert_exporter": "python",
   "pygments_lexer": "ipython3",
   "version": "3.7.7"
  },
  "pycharm": {
   "stem_cell": {
    "cell_type": "raw",
    "metadata": {
     "collapsed": false
    },
    "source": []
   }
  }
 },
 "nbformat": 4,
 "nbformat_minor": 2
}
