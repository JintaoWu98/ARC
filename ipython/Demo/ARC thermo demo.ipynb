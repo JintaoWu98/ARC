{
 "cells": [
  {
   "cell_type": "markdown",
   "metadata": {},
   "source": [
    "# ARC thermo demo"
   ]
  },
  {
   "cell_type": "markdown",
   "metadata": {},
   "source": [
    "Here we calculate thermodynamic data for several species.\n",
    "\n",
    "This demo shows different methods to define an ARCSpecies object: (1) from an RMG `Species` object, (2) using xyz (we also give SMILES for the 2D graph bond orders used for BAC), (3) from SMILES, (4) from an RMG `Molecule` object, (5) from an RMG adjacency list."
   ]
  },
  {
   "cell_type": "markdown",
   "metadata": {},
   "source": [
    "### imports"
   ]
  },
  {
   "cell_type": "code",
   "execution_count": 1,
   "metadata": {},
   "outputs": [
    {
     "name": "stderr",
     "output_type": "stream",
     "text": [
      "Using Theano backend.\n"
     ]
    }
   ],
   "source": [
    "import rmgpy\n",
    "from rmgpy.molecule.molecule import *\n",
    "from rmgpy.species import Species\n",
    "from arc.species import ARCSpecies\n",
    "from IPython.display import display\n",
    "import arc\n",
    "import matplotlib.pyplot as plt\n",
    "%matplotlib notebook\n",
    "%matplotlib inline"
   ]
  },
  {
   "cell_type": "markdown",
   "metadata": {},
   "source": [
    "### Below are different methods to define species in ARC"
   ]
  },
  {
   "cell_type": "code",
   "execution_count": 2,
   "metadata": {},
   "outputs": [
    {
     "name": "stdout",
     "output_type": "stream",
     "text": [
      "1. vinoxy:\n"
     ]
    },
    {
     "data": {
      "image/png": "[encoded data removed]",
      "text/plain": [
       "Species(label=\"vinoxy\", molecule=[Molecule(SMILES=\"C=C[O]\")], molecularWeight=(43.0446,'amu'))"
      ]
     },
     "metadata": {},
     "output_type": "display_data"
    },
    {
     "name": "stdout",
     "output_type": "stream",
     "text": [
      "\n",
      "\n",
      "2. OH:\n"
     ]
    },
    {
     "data": {
      "image/png": "[encoded data removed]",
      "text/plain": [
       "Molecule(SMILES=\"[OH]\")"
      ]
     },
     "metadata": {},
     "output_type": "display_data"
    },
    {
     "name": "stdout",
     "output_type": "stream",
     "text": [
      "\n",
      "\n",
      "3. methylamine:\n"
     ]
    },
    {
     "data": {
      "image/png": "[encoded data removed]",
      "text/plain": [
       "Molecule(SMILES=\"CN\")"
      ]
     },
     "metadata": {},
     "output_type": "display_data"
    },
    {
     "name": "stdout",
     "output_type": "stream",
     "text": [
      "\n",
      "\n",
      "4. propene:\n"
     ]
    },
    {
     "data": {
      "image/png": "[encoded data removed]",
      "text/plain": [
       "Molecule(SMILES=\"C=CC\")"
      ]
     },
     "metadata": {},
     "output_type": "display_data"
    },
    {
     "name": "stdout",
     "output_type": "stream",
     "text": [
      "\n",
      "\n",
      "5. N2H4:\n"
     ]
    },
    {
     "data": {
      "image/png": "[encoded data removed]",
      "text/plain": [
       "Molecule(SMILES=\"NN\")"
      ]
     },
     "metadata": {},
     "output_type": "display_data"
    }
   ],
   "source": [
    "# Method 1: RMG `Species` object (here by SMILES)\n",
    "spc1 = Species(molecule=[Molecule().from_smiles(\"C=C[O]\")])  # delocalized radical + amine\n",
    "spc1.label = 'vinoxy'\n",
    "\n",
    "# Method 2: ARCSpecies object by XYZ (also give SMILES for thermo BAC)\n",
    "oh_xyz = \"\"\"O       0.00000000    0.00000000   -0.12002167\n",
    "H       0.00000000    0.00000000    0.85098324\"\"\"\n",
    "spc2 = ARCSpecies(label='OH', xyz=oh_xyz, smiles='[OH]', multiplicity=2, charge=0)\n",
    "\n",
    "# Method 3: ARCSpecies object by SMILES\n",
    "spc3 = ARCSpecies(label='methylamine', smiles='CN', multiplicity=1, charge=0)\n",
    "\n",
    "# Method 4: ARCSpecies object by RMG Molecule object\n",
    "mol4 = Molecule().from_smiles(\"C=CC\")\n",
    "spc4 = ARCSpecies(label='propene', mol=mol4, multiplicity=1, charge=0)\n",
    "\n",
    "# Method 5: ARCSpecies by AdjacencyList (to generate AdjLists, see https://rmg.mit.edu/molecule_search)\n",
    "so2_adj = \"\"\"1 N u0 p1 c0 {2,S} {3,S} {4,S}\n",
    "2 N u0 p1 c0 {1,S} {5,S} {6,S}\n",
    "3 H u0 p0 c0 {1,S}\n",
    "4 H u0 p0 c0 {1,S}\n",
    "5 H u0 p0 c0 {2,S}\n",
    "6 H u0 p0 c0 {2,S}\"\"\"\n",
    "spc5 = ARCSpecies(label='N2H4', adjlist=so2_adj, multiplicity=1, charge=0)\n",
    "\n",
    "# Last, collect all RMG Species objects and ARCSpecies objects in a list:\n",
    "arc_species_list = [spc1, spc2, spc3, spc4, spc5]"
   ]
  },
  {
   "cell_type": "markdown",
   "metadata": {},
   "source": [
    "### Run ARC:"
   ]
  },
  {
   "cell_type": "code",
   "execution_count": null,
   "metadata": {
    "scrolled": false
   },
   "outputs": [
    {
     "name": "stdout",
     "output_type": "stream",
     "text": [
      "ARC execution initiated on Mon Jun 17 11:44:47 2019\n",
      "\n",
      "###############################################################\n",
      "#                                                             #\n",
      "#                 Automatic Rate Calculator                   #\n",
      "#                            ARC                              #\n",
      "#                                                             #\n",
      "#   Version: 1.0.0                                            #\n",
      "#                                                             #\n",
      "###############################################################\n",
      "\n",
      "The current git HEAD for ARC is:\n",
      "    8a0426261fdd8b2bcc92df5b02d03b9efd4a6791\n",
      "    Mon Jun 17 10:17:54 2019 -0400\n",
      "\n",
      "Starting project ArcDemo\n",
      "Using default level b97d3/6-31+g(d,p) for refined conformer searches (after filtering via force fields)\n",
      "Using default level b97d3/6-31+g(d,p) for TS guesses comparison of different methods\n",
      "Using default level wb97xd/6-311++g(d,p) for geometry optimizations\n",
      "Using default level wb97xd/6-311++g(d,p) for frequency calculations\n",
      "Using default level ccsd(t)-f12/cc-pvtz-f12 for single point calculations\n",
      "Using default level b97d3/6-31+g(d,p) for rotor scans\n",
      "Using localized structure C=C[O] of species vinoxy for BAC determination. To use a different structure, pass the RMG:Molecule object in the `mol` parameter\n",
      "\n",
      "Using the following ESS settings:\n",
      "{'molpro': ['rmg'], 'gaussian': ['c3ddb'], 'qchem': ['pharos']}\n",
      "\n",
      "Using ccsd(t)-f12/cc-pvtz-f12//wb97xd/6-311++g(d,p) as a model chemistry in Arkane\n",
      "\n",
      "\n",
      "Considering species: OH\n"
     ]
    },
    {
     "data": {
      "image/png": "[encoded data removed]",
      "text/plain": [
       "Molecule(SMILES=\"[OH]\")"
      ]
     },
     "metadata": {},
     "output_type": "display_data"
    },
    {
     "name": "stdout",
     "output_type": "stream",
     "text": [
      "Considering species: methylamine\n"
     ]
    },
    {
     "data": {
      "image/png": "[encoded data removed]",
      "text/plain": [
       "Molecule(SMILES=\"CN\")"
      ]
     },
     "metadata": {},
     "output_type": "display_data"
    },
    {
     "name": "stdout",
     "output_type": "stream",
     "text": [
      "Considering species: propene\n"
     ]
    },
    {
     "data": {
      "image/png": "[encoded data removed]",
      "text/plain": [
       "Molecule(SMILES=\"C=CC\")"
      ]
     },
     "metadata": {},
     "output_type": "display_data"
    },
    {
     "name": "stdout",
     "output_type": "stream",
     "text": [
      "Considering species: N2H4\n"
     ]
    },
    {
     "data": {
      "image/png": "[encoded data removed]",
      "text/plain": [
       "Molecule(SMILES=\"NN\")"
      ]
     },
     "metadata": {},
     "output_type": "display_data"
    },
    {
     "name": "stdout",
     "output_type": "stream",
     "text": [
      "Considering species: vinoxy\n"
     ]
    },
    {
     "data": {
      "image/png": "[encoded data removed]",
      "text/plain": [
       "Molecule(SMILES=\"C=C[O]\")"
      ]
     },
     "metadata": {},
     "output_type": "display_data"
    },
    {
     "name": "stdout",
     "output_type": "stream",
     "text": [
      "\n",
      "\n",
      "\n",
      "Found one possible rotor for methylamine\n",
      "Pivot list(s) for methylamine: [[1, 2]]\n",
      "\n",
      "\n",
      "Found one possible rotor for propene\n",
      "Pivot list(s) for propene: [[1, 2]]\n",
      "\n",
      "\n",
      "Found one possible rotor for N2H4\n",
      "Pivot list(s) for N2H4: [[1, 2]]\n",
      "\n",
      "\n",
      "Found one possible rotor for vinoxy\n",
      "Pivot list(s) for vinoxy: [[2, 3]]\n",
      "\n",
      "Running job conformer_a17011 for OH\n",
      "Running job conformer_a17012 for OH\n",
      "Running job conformer_a17013 for OH\n",
      "Running job conformer_a17014 for methylamine\n",
      "Running job conformer_a17015 for methylamine\n",
      "Running job conformer_a17016 for propene\n",
      "Running job conformer_a17017 for propene\n",
      "Running job conformer_a17018 for N2H4\n",
      "Running job conformer_a17019 for N2H4\n",
      "Running job conformer_a17020 for vinoxy\n",
      "Running job conformer_a17021 for vinoxy\n",
      "Running job conformer_a17022 for vinoxy\n",
      "Running job conformer_a17023 for vinoxy\n",
      "  Ending job conformer_a17012 for OH (run time: 0:00:54)\n",
      "  Ending job conformer_a17014 for methylamine (run time: 0:00:54)\n",
      "  Ending job conformer_a17013 for OH (run time: 0:00:59)\n",
      "  Ending job conformer_a17015 for methylamine (run time: 0:00:56)\n",
      "\n",
      "Conformer jobs for methylamine successfully terminated.\n",
      "\n",
      "Most stable conformer for species methylamine was found to be isomorphic with the 2D graph representation CN\n",
      "\n",
      "Running job opt_a17024 for methylamine\n",
      "  Ending job conformer_a17016 for propene (run time: 0:00:55)\n",
      "  Ending job conformer_a17017 for propene (run time: 0:00:54)\n",
      "\n",
      "Conformer jobs for propene successfully terminated.\n",
      "\n",
      "Most stable conformer for species propene was found to be isomorphic with the 2D graph representation C=CC\n",
      "\n",
      "Running job opt_a17025 for propene\n",
      "  Ending job conformer_a17011 for OH (run time: 0:01:19)\n",
      "\n",
      "Conformer jobs for OH successfully terminated.\n",
      "\n",
      "Most stable conformer for species OH was found to be isomorphic with the 2D graph representation [OH]\n",
      "\n",
      "Running job opt_a17026 for OH\n",
      "  Ending job conformer_a17022 for vinoxy (run time: 0:01:32)\n",
      "  Ending job opt_a17026 for OH (run time: 0:00:38)\n",
      "Running job opt_a17027 for OH (fine opt)\n",
      "  Ending job conformer_a17023 for vinoxy (run time: 0:01:16)\n",
      "  Ending job opt_a17024 for methylamine (run time: 0:01:09)\n",
      "Running job opt_a17028 for methylamine (fine opt)\n",
      "  Ending job conformer_a17020 for vinoxy (run time: 0:02:11)\n",
      "  Ending job opt_a17027 for OH (run time: 0:00:41)\n",
      "\n",
      "Optimized geometry for OH at wb97xd/6-311++g(d,p):\n",
      "O       0.00000000    0.00000000   -0.11992200\n",
      "H       0.00000000    0.00000000    0.85088300\n",
      "\n"
     ]
    },
    {
     "data": {
      "application/3dmoljs_load.v0": "<div id=\"3dmolviewer_156078646723\"  style=\"position: relative; width: 400px; height: 400px\">\n        <p id=\"3dmolwarning_156078646723\" style=\"background-color:#ffcccc;color:black\">You appear to be running in JupyterLab (or JavaScript failed to load for some other reason).  You need to install the 3dmol extension: <br>\n        <tt>jupyter labextension install jupyterlab_3dmol</tt></p>\n        </div>\n<script>\n\nvar loadScriptAsync = function(uri){\n  return new Promise((resolve, reject) => {\n    var tag = document.createElement('script');\n    tag.src = uri;\n    tag.async = true;\n    tag.onload = () => {\n      resolve();\n    };\n  var firstScriptTag = document.getElementsByTagName('script')[0];\n  firstScriptTag.parentNode.insertBefore(tag, firstScriptTag);\n});\n};\n\nif(typeof $3Dmolpromise === 'undefined') {\n$3Dmolpromise = null;\n  $3Dmolpromise = loadScriptAsync('https://3dmol.csb.pitt.edu/build/3Dmol.js');\n}\n\nvar viewer_156078646723 = null;\nvar warn = document.getElementById(\"3dmolwarning_156078646723\");\nif(warn) {\n    warn.parentNode.removeChild(warn);\n}\n$3Dmolpromise.then(function() {\nviewer_156078646723 = $3Dmol.createViewer($(\"#3dmolviewer_156078646723\"),{backgroundColor:\"white\"});\n\tviewer_156078646723.addModel(\"\\n     RDKit          3D\\n\\n  2  1  0  0  0  0  0  0  0  0999 V2000\\n    0.0000    0.0000   -0.1199 O   0  0  0  0  0  1  0  0  0  0  0  0\\n    0.0000    0.0000    0.8509 H   0  0  0  0  0  0  0  0  0  0  0  0\\n  1  2  1  0\\nM  RAD  1   1   2\\nM  END\\n\",\"sdf\");\n\tviewer_156078646723.setStyle({\"stick\": {}});\n\tviewer_156078646723.zoomTo();\nviewer_156078646723.render();\n});\n</script>",
      "text/html": [
       "<div id=\"3dmolviewer_156078646723\"  style=\"position: relative; width: 400px; height: 400px\">\n",
       "        <p id=\"3dmolwarning_156078646723\" style=\"background-color:#ffcccc;color:black\">You appear to be running in JupyterLab (or JavaScript failed to load for some other reason).  You need to install the 3dmol extension: <br>\n",
       "        <tt>jupyter labextension install jupyterlab_3dmol</tt></p>\n",
       "        </div>\n",
       "<script>\n",
       "\n",
       "var loadScriptAsync = function(uri){\n",
       "  return new Promise((resolve, reject) => {\n",
       "    var tag = document.createElement('script');\n",
       "    tag.src = uri;\n",
       "    tag.async = true;\n",
       "    tag.onload = () => {\n",
       "      resolve();\n",
       "    };\n",
       "  var firstScriptTag = document.getElementsByTagName('script')[0];\n",
       "  firstScriptTag.parentNode.insertBefore(tag, firstScriptTag);\n",
       "});\n",
       "};\n",
       "\n",
       "if(typeof $3Dmolpromise === 'undefined') {\n",
       "$3Dmolpromise = null;\n",
       "  $3Dmolpromise = loadScriptAsync('https://3dmol.csb.pitt.edu/build/3Dmol.js');\n",
       "}\n",
       "\n",
       "var viewer_156078646723 = null;\n",
       "var warn = document.getElementById(\"3dmolwarning_156078646723\");\n",
       "if(warn) {\n",
       "    warn.parentNode.removeChild(warn);\n",
       "}\n",
       "$3Dmolpromise.then(function() {\n",
       "viewer_156078646723 = $3Dmol.createViewer($(\"#3dmolviewer_156078646723\"),{backgroundColor:\"white\"});\n",
       "\tviewer_156078646723.addModel(\"\\n     RDKit          3D\\n\\n  2  1  0  0  0  0  0  0  0  0999 V2000\\n    0.0000    0.0000   -0.1199 O   0  0  0  0  0  1  0  0  0  0  0  0\\n    0.0000    0.0000    0.8509 H   0  0  0  0  0  0  0  0  0  0  0  0\\n  1  2  1  0\\nM  RAD  1   1   2\\nM  END\\n\",\"sdf\");\n",
       "\tviewer_156078646723.setStyle({\"stick\": {}});\n",
       "\tviewer_156078646723.zoomTo();\n",
       "viewer_156078646723.render();\n",
       "});\n",
       "</script>"
      ]
     },
     "metadata": {},
     "output_type": "display_data"
    },
    {
     "name": "stdout",
     "output_type": "stream",
     "text": [
      "Running job freq_a17029 for OH\n",
      "Running job sp_a17030 for OH\n",
      "  Ending job opt_a17025 for propene (run time: 0:01:39)\n",
      "Running job opt_a17031 for propene (fine opt)\n",
      "  Ending job conformer_a17019 for N2H4 (run time: 0:02:54)\n",
      "  Ending job conformer_a17021 for vinoxy (run time: 0:01:56)\n",
      "\n",
      "Conformer jobs for vinoxy successfully terminated.\n",
      "\n",
      "Most stable conformer for species vinoxy was found to be isomorphic with the 2D graph representation C=C[O]\n",
      "\n",
      "Running job opt_a17032 for vinoxy\n",
      "  Ending job freq_a17029 for OH (run time: 0:00:24)\n",
      "  Ending job conformer_a17018 for N2H4 (run time: 0:03:03)\n",
      "\n",
      "Conformer jobs for N2H4 successfully terminated.\n",
      "\n",
      "Most stable conformer for species N2H4 was found to be isomorphic with the 2D graph representation NN\n",
      "\n",
      "Running job opt_a17033 for N2H4\n",
      "  Ending job sp_a17030 for OH (run time: 0:00:18)\n",
      "Species OH has a T1 diagnostic parameter of 0.00776116\n",
      "\n",
      "All jobs for species OH successfully converged. Run time: 0:03:02\n",
      "  Ending job opt_a17028 for methylamine (run time: 0:01:26)\n",
      "\n",
      "Optimized geometry for methylamine at wb97xd/6-311++g(d,p):\n",
      "N       0.83792100   -0.04332000    0.34579500\n",
      "C      -0.56484400    0.09473500   -0.03023700\n",
      "H      -1.17849800   -0.51330800    0.63861200\n",
      "H      -0.87377900    1.13372100    0.10655900\n",
      "H      -0.79996500   -0.19589000   -1.06455600\n",
      "H       1.43089100    0.52582100   -0.24482100\n",
      "H       1.14827200   -1.00175900    0.24864700\n",
      "\n"
     ]
    },
    {
     "data": {
      "application/3dmoljs_load.v0": "<div id=\"3dmolviewer_156078656678\"  style=\"position: relative; width: 400px; height: 400px\">\n        <p id=\"3dmolwarning_156078656678\" style=\"background-color:#ffcccc;color:black\">You appear to be running in JupyterLab (or JavaScript failed to load for some other reason).  You need to install the 3dmol extension: <br>\n        <tt>jupyter labextension install jupyterlab_3dmol</tt></p>\n        </div>\n<script>\n\nvar loadScriptAsync = function(uri){\n  return new Promise((resolve, reject) => {\n    var tag = document.createElement('script');\n    tag.src = uri;\n    tag.async = true;\n    tag.onload = () => {\n      resolve();\n    };\n  var firstScriptTag = document.getElementsByTagName('script')[0];\n  firstScriptTag.parentNode.insertBefore(tag, firstScriptTag);\n});\n};\n\nif(typeof $3Dmolpromise === 'undefined') {\n$3Dmolpromise = null;\n  $3Dmolpromise = loadScriptAsync('https://3dmol.csb.pitt.edu/build/3Dmol.js');\n}\n\nvar viewer_156078656678 = null;\nvar warn = document.getElementById(\"3dmolwarning_156078656678\");\nif(warn) {\n    warn.parentNode.removeChild(warn);\n}\n$3Dmolpromise.then(function() {\nviewer_156078656678 = $3Dmol.createViewer($(\"#3dmolviewer_156078656678\"),{backgroundColor:\"white\"});\n\tviewer_156078656678.addModel(\"\\n     RDKit          3D\\n\\n  7  6  0  0  0  0  0  0  0  0999 V2000\\n    0.8379   -0.0433    0.3458 N   0  0  0  0  0  0  0  0  0  0  0  0\\n   -0.5648    0.0947   -0.0302 C   0  0  0  0  0  0  0  0  0  0  0  0\\n   -1.1785   -0.5133    0.6386 H   0  0  0  0  0  0  0  0  0  0  0  0\\n   -0.8738    1.1337    0.1066 H   0  0  0  0  0  0  0  0  0  0  0  0\\n   -0.8000   -0.1959   -1.0646 H   0  0  0  0  0  0  0  0  0  0  0  0\\n    1.4309    0.5258   -0.2448 H   0  0  0  0  0  0  0  0  0  0  0  0\\n    1.1483   -1.0018    0.2486 H   0  0  0  0  0  0  0  0  0  0  0  0\\n  1  7  1  0\\n  1  2  1  0\\n  1  6  1  0\\n  2  5  1  0\\n  2  4  1  0\\n  2  3  1  0\\nM  END\\n\",\"sdf\");\n\tviewer_156078656678.setStyle({\"stick\": {}});\n\tviewer_156078656678.zoomTo();\nviewer_156078656678.render();\n});\n</script>",
      "text/html": [
       "<div id=\"3dmolviewer_156078656678\"  style=\"position: relative; width: 400px; height: 400px\">\n",
       "        <p id=\"3dmolwarning_156078656678\" style=\"background-color:#ffcccc;color:black\">You appear to be running in JupyterLab (or JavaScript failed to load for some other reason).  You need to install the 3dmol extension: <br>\n",
       "        <tt>jupyter labextension install jupyterlab_3dmol</tt></p>\n",
       "        </div>\n",
       "<script>\n",
       "\n",
       "var loadScriptAsync = function(uri){\n",
       "  return new Promise((resolve, reject) => {\n",
       "    var tag = document.createElement('script');\n",
       "    tag.src = uri;\n",
       "    tag.async = true;\n",
       "    tag.onload = () => {\n",
       "      resolve();\n",
       "    };\n",
       "  var firstScriptTag = document.getElementsByTagName('script')[0];\n",
       "  firstScriptTag.parentNode.insertBefore(tag, firstScriptTag);\n",
       "});\n",
       "};\n",
       "\n",
       "if(typeof $3Dmolpromise === 'undefined') {\n",
       "$3Dmolpromise = null;\n",
       "  $3Dmolpromise = loadScriptAsync('https://3dmol.csb.pitt.edu/build/3Dmol.js');\n",
       "}\n",
       "\n",
       "var viewer_156078656678 = null;\n",
       "var warn = document.getElementById(\"3dmolwarning_156078656678\");\n",
       "if(warn) {\n",
       "    warn.parentNode.removeChild(warn);\n",
       "}\n",
       "$3Dmolpromise.then(function() {\n",
       "viewer_156078656678 = $3Dmol.createViewer($(\"#3dmolviewer_156078656678\"),{backgroundColor:\"white\"});\n",
       "\tviewer_156078656678.addModel(\"\\n     RDKit          3D\\n\\n  7  6  0  0  0  0  0  0  0  0999 V2000\\n    0.8379   -0.0433    0.3458 N   0  0  0  0  0  0  0  0  0  0  0  0\\n   -0.5648    0.0947   -0.0302 C   0  0  0  0  0  0  0  0  0  0  0  0\\n   -1.1785   -0.5133    0.6386 H   0  0  0  0  0  0  0  0  0  0  0  0\\n   -0.8738    1.1337    0.1066 H   0  0  0  0  0  0  0  0  0  0  0  0\\n   -0.8000   -0.1959   -1.0646 H   0  0  0  0  0  0  0  0  0  0  0  0\\n    1.4309    0.5258   -0.2448 H   0  0  0  0  0  0  0  0  0  0  0  0\\n    1.1483   -1.0018    0.2486 H   0  0  0  0  0  0  0  0  0  0  0  0\\n  1  7  1  0\\n  1  2  1  0\\n  1  6  1  0\\n  2  5  1  0\\n  2  4  1  0\\n  2  3  1  0\\nM  END\\n\",\"sdf\");\n",
       "\tviewer_156078656678.setStyle({\"stick\": {}});\n",
       "\tviewer_156078656678.zoomTo();\n",
       "viewer_156078656678.render();\n",
       "});\n",
       "</script>"
      ]
     },
     "metadata": {},
     "output_type": "display_data"
    },
    {
     "name": "stdout",
     "output_type": "stream",
     "text": [
      "Running job freq_a17034 for methylamine\n",
      "Running job sp_a17035 for methylamine\n",
      "Running job scan_a17036 for methylamine (pivots: [1, 2])\n",
      "  Ending job opt_a17031 for propene (run time: 0:01:45)\n",
      "\n",
      "Optimized geometry for propene at wb97xd/6-311++g(d,p):\n",
      "C       1.08360800    0.06508100    0.00645600\n",
      "C       0.55477900    1.44270900   -0.25065900\n",
      "C      -0.21105900    1.78700900   -1.27927200\n",
      "H       0.74193900   -0.30824400    0.97713100\n",
      "H       0.76020700   -0.63754300   -0.76504100\n",
      "H       2.17794900    0.06688600    0.03353500\n",
      "H       0.83232600    2.20543600    0.47495000\n",
      "H      -0.56232600    2.80459700   -1.40930100\n",
      "H      -0.51373200    1.06073000   -2.02863000\n",
      "\n"
     ]
    },
    {
     "data": {
      "application/3dmoljs_load.v0": "<div id=\"3dmolviewer_156078662909\"  style=\"position: relative; width: 400px; height: 400px\">\n        <p id=\"3dmolwarning_156078662909\" style=\"background-color:#ffcccc;color:black\">You appear to be running in JupyterLab (or JavaScript failed to load for some other reason).  You need to install the 3dmol extension: <br>\n        <tt>jupyter labextension install jupyterlab_3dmol</tt></p>\n        </div>\n<script>\n\nvar loadScriptAsync = function(uri){\n  return new Promise((resolve, reject) => {\n    var tag = document.createElement('script');\n    tag.src = uri;\n    tag.async = true;\n    tag.onload = () => {\n      resolve();\n    };\n  var firstScriptTag = document.getElementsByTagName('script')[0];\n  firstScriptTag.parentNode.insertBefore(tag, firstScriptTag);\n});\n};\n\nif(typeof $3Dmolpromise === 'undefined') {\n$3Dmolpromise = null;\n  $3Dmolpromise = loadScriptAsync('https://3dmol.csb.pitt.edu/build/3Dmol.js');\n}\n\nvar viewer_156078662909 = null;\nvar warn = document.getElementById(\"3dmolwarning_156078662909\");\nif(warn) {\n    warn.parentNode.removeChild(warn);\n}\n$3Dmolpromise.then(function() {\nviewer_156078662909 = $3Dmol.createViewer($(\"#3dmolviewer_156078662909\"),{backgroundColor:\"white\"});\n\tviewer_156078662909.addModel(\"\\n     RDKit          3D\\n\\n  9  8  0  0  0  0  0  0  0  0999 V2000\\n    1.0836    0.0651    0.0065 C   0  0  0  0  0  0  0  0  0  0  0  0\\n    0.5548    1.4427   -0.2507 C   0  0  0  0  0  0  0  0  0  0  0  0\\n   -0.2111    1.7870   -1.2793 C   0  0  0  0  0  0  0  0  0  0  0  0\\n    0.7419   -0.3082    0.9771 H   0  0  0  0  0  0  0  0  0  0  0  0\\n    0.7602   -0.6375   -0.7650 H   0  0  0  0  0  0  0  0  0  0  0  0\\n    2.1779    0.0669    0.0335 H   0  0  0  0  0  0  0  0  0  0  0  0\\n    0.8323    2.2054    0.4749 H   0  0  0  0  0  0  0  0  0  0  0  0\\n   -0.5623    2.8046   -1.4093 H   0  0  0  0  0  0  0  0  0  0  0  0\\n   -0.5137    1.0607   -2.0286 H   0  0  0  0  0  0  0  0  0  0  0  0\\n  1  4  1  0\\n  1  5  1  0\\n  1  6  1  0\\n  1  2  1  0\\n  2  3  2  3\\n  2  7  1  0\\n  3  9  1  0\\n  3  8  1  0\\nM  END\\n\",\"sdf\");\n\tviewer_156078662909.setStyle({\"stick\": {}});\n\tviewer_156078662909.zoomTo();\nviewer_156078662909.render();\n});\n</script>",
      "text/html": [
       "<div id=\"3dmolviewer_156078662909\"  style=\"position: relative; width: 400px; height: 400px\">\n",
       "        <p id=\"3dmolwarning_156078662909\" style=\"background-color:#ffcccc;color:black\">You appear to be running in JupyterLab (or JavaScript failed to load for some other reason).  You need to install the 3dmol extension: <br>\n",
       "        <tt>jupyter labextension install jupyterlab_3dmol</tt></p>\n",
       "        </div>\n",
       "<script>\n",
       "\n",
       "var loadScriptAsync = function(uri){\n",
       "  return new Promise((resolve, reject) => {\n",
       "    var tag = document.createElement('script');\n",
       "    tag.src = uri;\n",
       "    tag.async = true;\n",
       "    tag.onload = () => {\n",
       "      resolve();\n",
       "    };\n",
       "  var firstScriptTag = document.getElementsByTagName('script')[0];\n",
       "  firstScriptTag.parentNode.insertBefore(tag, firstScriptTag);\n",
       "});\n",
       "};\n",
       "\n",
       "if(typeof $3Dmolpromise === 'undefined') {\n",
       "$3Dmolpromise = null;\n",
       "  $3Dmolpromise = loadScriptAsync('https://3dmol.csb.pitt.edu/build/3Dmol.js');\n",
       "}\n",
       "\n",
       "var viewer_156078662909 = null;\n",
       "var warn = document.getElementById(\"3dmolwarning_156078662909\");\n",
       "if(warn) {\n",
       "    warn.parentNode.removeChild(warn);\n",
       "}\n",
       "$3Dmolpromise.then(function() {\n",
       "viewer_156078662909 = $3Dmol.createViewer($(\"#3dmolviewer_156078662909\"),{backgroundColor:\"white\"});\n",
       "\tviewer_156078662909.addModel(\"\\n     RDKit          3D\\n\\n  9  8  0  0  0  0  0  0  0  0999 V2000\\n    1.0836    0.0651    0.0065 C   0  0  0  0  0  0  0  0  0  0  0  0\\n    0.5548    1.4427   -0.2507 C   0  0  0  0  0  0  0  0  0  0  0  0\\n   -0.2111    1.7870   -1.2793 C   0  0  0  0  0  0  0  0  0  0  0  0\\n    0.7419   -0.3082    0.9771 H   0  0  0  0  0  0  0  0  0  0  0  0\\n    0.7602   -0.6375   -0.7650 H   0  0  0  0  0  0  0  0  0  0  0  0\\n    2.1779    0.0669    0.0335 H   0  0  0  0  0  0  0  0  0  0  0  0\\n    0.8323    2.2054    0.4749 H   0  0  0  0  0  0  0  0  0  0  0  0\\n   -0.5623    2.8046   -1.4093 H   0  0  0  0  0  0  0  0  0  0  0  0\\n   -0.5137    1.0607   -2.0286 H   0  0  0  0  0  0  0  0  0  0  0  0\\n  1  4  1  0\\n  1  5  1  0\\n  1  6  1  0\\n  1  2  1  0\\n  2  3  2  3\\n  2  7  1  0\\n  3  9  1  0\\n  3  8  1  0\\nM  END\\n\",\"sdf\");\n",
       "\tviewer_156078662909.setStyle({\"stick\": {}});\n",
       "\tviewer_156078662909.zoomTo();\n",
       "viewer_156078662909.render();\n",
       "});\n",
       "</script>"
      ]
     },
     "metadata": {},
     "output_type": "display_data"
    },
    {
     "name": "stdout",
     "output_type": "stream",
     "text": [
      "Running job freq_a17037 for propene\n",
      "Running job sp_a17038 for propene\n",
      "Running job scan_a17039 for propene (pivots: [1, 2])\n",
      "  Ending job opt_a17032 for vinoxy (run time: 0:02:17)\n",
      "Running job opt_a17040 for vinoxy (fine opt)\n",
      "  Ending job freq_a17034 for methylamine (run time: 0:00:58)\n",
      "  Ending job sp_a17035 for methylamine (run time: 0:02:19)\n",
      "Species methylamine has a T1 diagnostic parameter of 0.00867692\n",
      "  Ending job opt_a17033 for N2H4 (run time: 0:03:48)\n",
      "Running job opt_a17041 for N2H4 (fine opt)\n",
      "  Ending job freq_a17037 for propene (run time: 0:02:05)\n",
      "  Ending job opt_a17040 for vinoxy (run time: 0:02:21)\n",
      "\n",
      "Optimized geometry for vinoxy at wb97xd/6-311++g(d,p):\n",
      "O       1.33404500    0.46137600    0.95617500\n",
      "C      -0.69526200   -0.20628500    0.02185400\n",
      "C       0.66927300    0.19723400   -0.04142600\n",
      "H      -1.25363200   -0.43229700   -0.87923900\n",
      "H      -1.17997600   -0.28763600    0.98798200\n",
      "H       1.12555100    0.26760800   -1.04534500\n",
      "\n"
     ]
    },
    {
     "data": {
      "application/3dmoljs_load.v0": "<div id=\"3dmolviewer_15607868105\"  style=\"position: relative; width: 400px; height: 400px\">\n        <p id=\"3dmolwarning_15607868105\" style=\"background-color:#ffcccc;color:black\">You appear to be running in JupyterLab (or JavaScript failed to load for some other reason).  You need to install the 3dmol extension: <br>\n        <tt>jupyter labextension install jupyterlab_3dmol</tt></p>\n        </div>\n<script>\n\nvar loadScriptAsync = function(uri){\n  return new Promise((resolve, reject) => {\n    var tag = document.createElement('script');\n    tag.src = uri;\n    tag.async = true;\n    tag.onload = () => {\n      resolve();\n    };\n  var firstScriptTag = document.getElementsByTagName('script')[0];\n  firstScriptTag.parentNode.insertBefore(tag, firstScriptTag);\n});\n};\n\nif(typeof $3Dmolpromise === 'undefined') {\n$3Dmolpromise = null;\n  $3Dmolpromise = loadScriptAsync('https://3dmol.csb.pitt.edu/build/3Dmol.js');\n}\n\nvar viewer_15607868105 = null;\nvar warn = document.getElementById(\"3dmolwarning_15607868105\");\nif(warn) {\n    warn.parentNode.removeChild(warn);\n}\n$3Dmolpromise.then(function() {\nviewer_15607868105 = $3Dmol.createViewer($(\"#3dmolviewer_15607868105\"),{backgroundColor:\"white\"});\n\tviewer_15607868105.addModel(\"\\n     RDKit          3D\\n\\n  6  5  0  0  0  0  0  0  0  0999 V2000\\n    1.3340    0.4614    0.9562 O   0  0  0  0  0  1  0  0  0  0  0  0\\n   -0.6953   -0.2063    0.0219 C   0  0  0  0  0  0  0  0  0  0  0  0\\n    0.6693    0.1972   -0.0414 C   0  0  0  0  0  0  0  0  0  0  0  0\\n   -1.2536   -0.4323   -0.8792 H   0  0  0  0  0  0  0  0  0  0  0  0\\n   -1.1800   -0.2876    0.9880 H   0  0  0  0  0  0  0  0  0  0  0  0\\n    1.1256    0.2676   -1.0453 H   0  0  0  0  0  0  0  0  0  0  0  0\\n  1  3  1  0\\n  2  5  1  0\\n  2  3  2  3\\n  2  4  1  0\\n  3  6  1  0\\nM  RAD  1   1   2\\nM  END\\n\",\"sdf\");\n\tviewer_15607868105.setStyle({\"stick\": {}});\n\tviewer_15607868105.zoomTo();\nviewer_15607868105.render();\n});\n</script>",
      "text/html": [
       "<div id=\"3dmolviewer_15607868105\"  style=\"position: relative; width: 400px; height: 400px\">\n",
       "        <p id=\"3dmolwarning_15607868105\" style=\"background-color:#ffcccc;color:black\">You appear to be running in JupyterLab (or JavaScript failed to load for some other reason).  You need to install the 3dmol extension: <br>\n",
       "        <tt>jupyter labextension install jupyterlab_3dmol</tt></p>\n",
       "        </div>\n",
       "<script>\n",
       "\n",
       "var loadScriptAsync = function(uri){\n",
       "  return new Promise((resolve, reject) => {\n",
       "    var tag = document.createElement('script');\n",
       "    tag.src = uri;\n",
       "    tag.async = true;\n",
       "    tag.onload = () => {\n",
       "      resolve();\n",
       "    };\n",
       "  var firstScriptTag = document.getElementsByTagName('script')[0];\n",
       "  firstScriptTag.parentNode.insertBefore(tag, firstScriptTag);\n",
       "});\n",
       "};\n",
       "\n",
       "if(typeof $3Dmolpromise === 'undefined') {\n",
       "$3Dmolpromise = null;\n",
       "  $3Dmolpromise = loadScriptAsync('https://3dmol.csb.pitt.edu/build/3Dmol.js');\n",
       "}\n",
       "\n",
       "var viewer_15607868105 = null;\n",
       "var warn = document.getElementById(\"3dmolwarning_15607868105\");\n",
       "if(warn) {\n",
       "    warn.parentNode.removeChild(warn);\n",
       "}\n",
       "$3Dmolpromise.then(function() {\n",
       "viewer_15607868105 = $3Dmol.createViewer($(\"#3dmolviewer_15607868105\"),{backgroundColor:\"white\"});\n",
       "\tviewer_15607868105.addModel(\"\\n     RDKit          3D\\n\\n  6  5  0  0  0  0  0  0  0  0999 V2000\\n    1.3340    0.4614    0.9562 O   0  0  0  0  0  1  0  0  0  0  0  0\\n   -0.6953   -0.2063    0.0219 C   0  0  0  0  0  0  0  0  0  0  0  0\\n    0.6693    0.1972   -0.0414 C   0  0  0  0  0  0  0  0  0  0  0  0\\n   -1.2536   -0.4323   -0.8792 H   0  0  0  0  0  0  0  0  0  0  0  0\\n   -1.1800   -0.2876    0.9880 H   0  0  0  0  0  0  0  0  0  0  0  0\\n    1.1256    0.2676   -1.0453 H   0  0  0  0  0  0  0  0  0  0  0  0\\n  1  3  1  0\\n  2  5  1  0\\n  2  3  2  3\\n  2  4  1  0\\n  3  6  1  0\\nM  RAD  1   1   2\\nM  END\\n\",\"sdf\");\n",
       "\tviewer_15607868105.setStyle({\"stick\": {}});\n",
       "\tviewer_15607868105.zoomTo();\n",
       "viewer_15607868105.render();\n",
       "});\n",
       "</script>"
      ]
     },
     "metadata": {},
     "output_type": "display_data"
    },
    {
     "name": "stdout",
     "output_type": "stream",
     "text": [
      "Running job freq_a17042 for vinoxy\n",
      "Running job sp_a17043 for vinoxy\n",
      "Running job scan_a17044 for vinoxy (pivots: [2, 3])\n",
      "  Ending job opt_a17041 for N2H4 (run time: 0:01:11)\n",
      "\n",
      "Optimized geometry for N2H4 at wb97xd/6-311++g(d,p):\n",
      "N       0.90934500   -0.03820000    0.20436200\n",
      "N       0.37345400    1.24606600    0.49446100\n",
      "H       1.69120800   -0.00243400   -0.44116400\n",
      "H       1.22132600   -0.45638600    1.07029100\n",
      "H       1.06733600    1.98420800    0.44000600\n",
      "H      -0.36260000    1.44186100   -0.17032100\n",
      "\n"
     ]
    },
    {
     "data": {
      "application/3dmoljs_load.v0": "<div id=\"3dmolviewer_156078683209\"  style=\"position: relative; width: 400px; height: 400px\">\n        <p id=\"3dmolwarning_156078683209\" style=\"background-color:#ffcccc;color:black\">You appear to be running in JupyterLab (or JavaScript failed to load for some other reason).  You need to install the 3dmol extension: <br>\n        <tt>jupyter labextension install jupyterlab_3dmol</tt></p>\n        </div>\n<script>\n\nvar loadScriptAsync = function(uri){\n  return new Promise((resolve, reject) => {\n    var tag = document.createElement('script');\n    tag.src = uri;\n    tag.async = true;\n    tag.onload = () => {\n      resolve();\n    };\n  var firstScriptTag = document.getElementsByTagName('script')[0];\n  firstScriptTag.parentNode.insertBefore(tag, firstScriptTag);\n});\n};\n\nif(typeof $3Dmolpromise === 'undefined') {\n$3Dmolpromise = null;\n  $3Dmolpromise = loadScriptAsync('https://3dmol.csb.pitt.edu/build/3Dmol.js');\n}\n\nvar viewer_156078683209 = null;\nvar warn = document.getElementById(\"3dmolwarning_156078683209\");\nif(warn) {\n    warn.parentNode.removeChild(warn);\n}\n$3Dmolpromise.then(function() {\nviewer_156078683209 = $3Dmol.createViewer($(\"#3dmolviewer_156078683209\"),{backgroundColor:\"white\"});\n\tviewer_156078683209.addModel(\"\\n     RDKit          3D\\n\\n  6  5  0  0  0  0  0  0  0  0999 V2000\\n    0.9093   -0.0382    0.2044 N   0  0  0  0  0  0  0  0  0  0  0  0\\n    0.3735    1.2461    0.4945 N   0  0  0  0  0  0  0  0  0  0  0  0\\n    1.6912   -0.0024   -0.4412 H   0  0  0  0  0  0  0  0  0  0  0  0\\n    1.2213   -0.4564    1.0703 H   0  0  0  0  0  0  0  0  0  0  0  0\\n    1.0673    1.9842    0.4400 H   0  0  0  0  0  0  0  0  0  0  0  0\\n   -0.3626    1.4419   -0.1703 H   0  0  0  0  0  0  0  0  0  0  0  0\\n  1  3  1  0\\n  1  4  1  0\\n  1  2  1  0\\n  2  5  1  0\\n  2  6  1  0\\nM  END\\n\",\"sdf\");\n\tviewer_156078683209.setStyle({\"stick\": {}});\n\tviewer_156078683209.zoomTo();\nviewer_156078683209.render();\n});\n</script>",
      "text/html": [
       "<div id=\"3dmolviewer_156078683209\"  style=\"position: relative; width: 400px; height: 400px\">\n",
       "        <p id=\"3dmolwarning_156078683209\" style=\"background-color:#ffcccc;color:black\">You appear to be running in JupyterLab (or JavaScript failed to load for some other reason).  You need to install the 3dmol extension: <br>\n",
       "        <tt>jupyter labextension install jupyterlab_3dmol</tt></p>\n",
       "        </div>\n",
       "<script>\n",
       "\n",
       "var loadScriptAsync = function(uri){\n",
       "  return new Promise((resolve, reject) => {\n",
       "    var tag = document.createElement('script');\n",
       "    tag.src = uri;\n",
       "    tag.async = true;\n",
       "    tag.onload = () => {\n",
       "      resolve();\n",
       "    };\n",
       "  var firstScriptTag = document.getElementsByTagName('script')[0];\n",
       "  firstScriptTag.parentNode.insertBefore(tag, firstScriptTag);\n",
       "});\n",
       "};\n",
       "\n",
       "if(typeof $3Dmolpromise === 'undefined') {\n",
       "$3Dmolpromise = null;\n",
       "  $3Dmolpromise = loadScriptAsync('https://3dmol.csb.pitt.edu/build/3Dmol.js');\n",
       "}\n",
       "\n",
       "var viewer_156078683209 = null;\n",
       "var warn = document.getElementById(\"3dmolwarning_156078683209\");\n",
       "if(warn) {\n",
       "    warn.parentNode.removeChild(warn);\n",
       "}\n",
       "$3Dmolpromise.then(function() {\n",
       "viewer_156078683209 = $3Dmol.createViewer($(\"#3dmolviewer_156078683209\"),{backgroundColor:\"white\"});\n",
       "\tviewer_156078683209.addModel(\"\\n     RDKit          3D\\n\\n  6  5  0  0  0  0  0  0  0  0999 V2000\\n    0.9093   -0.0382    0.2044 N   0  0  0  0  0  0  0  0  0  0  0  0\\n    0.3735    1.2461    0.4945 N   0  0  0  0  0  0  0  0  0  0  0  0\\n    1.6912   -0.0024   -0.4412 H   0  0  0  0  0  0  0  0  0  0  0  0\\n    1.2213   -0.4564    1.0703 H   0  0  0  0  0  0  0  0  0  0  0  0\\n    1.0673    1.9842    0.4400 H   0  0  0  0  0  0  0  0  0  0  0  0\\n   -0.3626    1.4419   -0.1703 H   0  0  0  0  0  0  0  0  0  0  0  0\\n  1  3  1  0\\n  1  4  1  0\\n  1  2  1  0\\n  2  5  1  0\\n  2  6  1  0\\nM  END\\n\",\"sdf\");\n",
       "\tviewer_156078683209.setStyle({\"stick\": {}});\n",
       "\tviewer_156078683209.zoomTo();\n",
       "viewer_156078683209.render();\n",
       "});\n",
       "</script>"
      ]
     },
     "metadata": {},
     "output_type": "display_data"
    },
    {
     "name": "stdout",
     "output_type": "stream",
     "text": [
      "Running job freq_a17045 for N2H4\n",
      "Running job sp_a17046 for N2H4\n",
      "Running job scan_a17047 for N2H4 (pivots: [1, 2])\n",
      "  Ending job sp_a17043 for vinoxy (run time: 0:00:06)\n",
      "\n",
      "\n",
      "Warning: Troubleshooting vinoxy job sp_a17043 which failed with status \"errored: Unknown reason\" in molpro.\n",
      "Running job sp_a17043 for vinoxy\n",
      "  Ending job freq_a17045 for N2H4 (run time: 0:00:50)\n",
      "  Ending job freq_a17042 for vinoxy (run time: 0:01:29)\n",
      "  Ending job sp_a17046 for N2H4 (run time: 0:01:42)\n",
      "Species N2H4 has a T1 diagnostic parameter of 0.00877372\n",
      "  Ending job sp_a17038 for propene (run time: 0:10:42)\n",
      "Species propene has a T1 diagnostic parameter of 0.01077927\n"
     ]
    }
   ],
   "source": [
    "ess_settings = {'gaussian': 'c3ddb', 'molpro': 'rmg', 'qchem': 'pharos'}\n",
    "\n",
    "job_types = {'conformers': True, 'opt': True, 'fine_grid': True, 'freq': True, 'bde': False,\n",
    "             'sp': True, 'rotors': True, 'irc': False}\n",
    "\n",
    "arc0 = arc.ARC(project='ArcDemo', arc_species_list=arc_species_list, ess_settings=ess_settings, job_types=job_types)\n",
    "\n",
    "arc0.execute()"
   ]
  }
 ],
 "metadata": {
  "kernelspec": {
   "display_name": "Python 3",
   "language": "python",
   "name": "python3"
  },
  "language_info": {
   "codemirror_mode": {
    "name": "ipython",
    "version": 3
   },
   "file_extension": ".py",
   "mimetype": "text/x-python",
   "name": "python",
   "nbconvert_exporter": "python",
   "pygments_lexer": "ipython3",
   "version": "3.7.6"
  },
  "pycharm": {
   "stem_cell": {
    "cell_type": "raw",
    "metadata": {
     "collapsed": false
    },
    "source": []
   }
  }
 },
 "nbformat": 4,
 "nbformat_minor": 2
}
