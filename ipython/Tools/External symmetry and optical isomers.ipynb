{
 "cells": [
  {
   "cell_type": "markdown",
   "metadata": {},
   "source": [
    "# ARC Tools\n",
    "## Determine external symmetry and optical isomers\n",
    "\n",
    "The external symmetry number (the number of different ways the molecule can be rotated into a configuration indistinguishable from the original) as well as the optical isomers parameter (a value of 1 if no chiral centers exist, and 2 if one or more exist), are determined in using the Brute Force Symmetry Analyzer program by S. Patchkovskii (https://github.com/alongd/symmetry)."
   ]
  },
  {
   "cell_type": "markdown",
   "metadata": {},
   "source": [
    "#### input parameters:"
   ]
  },
  {
   "cell_type": "code",
   "execution_count": null,
   "metadata": {},
   "outputs": [],
   "source": [
    "smiles = None\n",
    "\n",
    "xyz = \"\"\"      O      -1.22342900    2.38786200   -0.31340100\n",
    "      O      -1.14796800   -0.19437300    2.39190700\n",
    "      O      -2.24577500   -0.46454800    3.03197900\n",
    "      N      -1.72243600   -1.42096800    0.48698800\n",
    "      C       3.47753100   -0.80934000   -0.06810600\n",
    "      C      -1.86810800   -1.59276400   -0.96294000\n",
    "      C      -1.39230800   -0.09642300    0.94091800\n",
    "      C       3.89911900   -1.06768700    1.38274400\n",
    "      C       3.27894300   -2.12633500   -0.82728500\n",
    "      C      -2.20758000   -3.05402900   -1.23146000\n",
    "      C      -2.89571900   -0.65177600   -1.60128300\n",
    "      C      -1.21122800    3.66638000   -0.91066600\n",
    "      C       2.24074700    0.06417800   -0.14065100\n",
    "      C      -0.11810500    0.42007500    0.33886100\n",
    "      C      -0.06550600    1.67718700   -0.27739500\n",
    "      C       1.02652200   -0.36079200    0.39594600\n",
    "      C       2.26868900    1.31370100   -0.74742700\n",
    "      C       1.13599300    2.11931500   -0.82239300\n",
    "      H       4.28903200   -0.26024100   -0.55941400\n",
    "      H      -0.88878200   -1.38197700   -1.40438300\n",
    "      H      -2.20006800    0.63531500    0.85293000\n",
    "      H       4.82365200   -1.65127500    1.41781300\n",
    "      H       4.06326300   -0.12940300    1.91823500\n",
    "      H       3.12899100   -1.62888000    1.92065200\n",
    "      H       3.00300900   -1.94297000   -1.86890400\n",
    "      H       4.19627600   -2.72198800   -0.81402300\n",
    "      H       2.48575200   -2.72606800   -0.37007700\n",
    "      H      -3.18254300   -3.31143700   -0.80230900\n",
    "      H      -2.25644400   -3.24730100   -2.30577700\n",
    "      H      -1.45561200   -3.71052900   -0.78942400\n",
    "      H      -2.62292800    0.39769200   -1.46237400\n",
    "      H      -3.88654900   -0.80909700   -1.16045800\n",
    "      H      -2.97073100   -0.83880300   -2.67618900\n",
    "      H      -2.22499000    4.05135400   -0.81508900\n",
    "      H      -0.51858200    4.34047300   -0.39522600\n",
    "      H      -0.94447000    3.60898200   -1.97184100\n",
    "      H      -2.57582800   -1.71179000    0.95540000\n",
    "      H       0.94414500   -1.33328700    0.87069400\n",
    "      H       1.20568100    3.08410000   -1.30705100\n",
    "      H       3.19634900    1.67768900   -1.17878000\"\"\""
   ]
  },
  {
   "cell_type": "code",
   "execution_count": null,
   "metadata": {},
   "outputs": [],
   "source": [
    "from rmgpy.molecule import Molecule\n",
    "from arc.species import ARCSpecies\n",
    "from IPython.display import display\n",
    "from arc.plotter import show_sticks\n",
    "from arc.species.converter import molecules_from_xyz, check_xyz_dict\n",
    "\n",
    "\n",
    "if smiles is None:\n",
    "    mol = molecules_from_xyz(check_xyz_dict(xyz))[1]\n",
    "    smiles = mol.to_smiles()\n",
    "\n",
    "rmg_mol = Molecule(smiles=smiles)\n",
    "arc_spc = ARCSpecies(label='test', smiles=smiles, xyz=xyz)\n",
    "arc_spc.determine_symmetry()\n",
    "\n",
    "print('SMILES: ', smiles)\n",
    "print('External symmetry: ', arc_spc.external_symmetry)\n",
    "print('Optical isomers: ', arc_spc.optical_isomers)\n",
    "\n",
    "display(rmg_mol)\n",
    "success = show_sticks(xyz=xyz)"
   ]
  },
  {
   "cell_type": "code",
   "execution_count": null,
   "metadata": {},
   "outputs": [],
   "source": []
  }
 ],
 "metadata": {
  "kernelspec": {
   "display_name": "Python 3",
   "language": "python",
   "name": "python3"
  },
  "language_info": {
   "codemirror_mode": {
    "name": "ipython",
    "version": 3
   },
   "file_extension": ".py",
   "mimetype": "text/x-python",
   "name": "python",
   "nbconvert_exporter": "python",
   "pygments_lexer": "ipython3",
   "version": "3.7.4"
  }
 },
 "nbformat": 4,
 "nbformat_minor": 2
}
