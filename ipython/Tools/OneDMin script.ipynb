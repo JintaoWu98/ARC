{
 "cells": [
  {
   "cell_type": "markdown",
   "metadata": {},
   "source": [
    "# ARC Tools\n",
    "### Visuallize OneDMin r_min and r_max\n",
    "The r (min and max) distance is defined between the center of mass of the species and the center of ass of the bath gas."
   ]
  },
  {
   "cell_type": "markdown",
   "metadata": {},
   "source": [
    "#### input parameters:"
   ]
  },
  {
   "cell_type": "code",
   "execution_count": null,
   "metadata": {},
   "outputs": [],
   "source": [
    "label = 'species_label'\n",
    "\n",
    "xyz = \"\"\"\n",
    "C       0.05984800   -0.62319600    0.00000000\n",
    "H      -0.46898100   -1.02444400    0.87886100\n",
    "H      -0.46898100   -1.02444400   -0.87886100\n",
    "H       1.08093800   -1.00826200    0.00000000\n",
    "N       0.05980600    0.81236000    0.00000000\n",
    "H      -0.92102100    1.10943400    0.00000000\n",
    "\"\"\"\n",
    "\n",
    "bath_gas = 'O2'  # allowed values are 'He', 'Ne', 'Ar', 'Kr', 'H2', 'N2', or 'O2'\n",
    "\n",
    "r_min = 3\n",
    "r_max = 6"
   ]
  },
  {
   "cell_type": "code",
   "execution_count": null,
   "metadata": {},
   "outputs": [],
   "source": [
    "from arc.species import ARCSpecies\n",
    "from arc.common import get_atom_radius\n",
    "from arc.species.converter import get_center_of_mass, get_most_common_isotope_for_element, xyz_from_data\n",
    "from arc.plotter import draw_3d\n",
    "\n",
    "\n",
    "def plot_collider(spc, r, bath_gas):\n",
    "    \"\"\"\n",
    "    Plot a species and its collider.\n",
    "\n",
    "    Args:\n",
    "        spc (ARCSpecies): The species with xyz data.\n",
    "        r (float): The bath gas distance from the species' center of mass.\n",
    "        bath_gas (str): The collider bath gas.\n",
    "    \"\"\"\n",
    "    xyz = spc.get_xyz()\n",
    "    cm = get_center_of_mass(xyz)\n",
    "    \n",
    "    if '2' in bath_gas:\n",
    "        symbol = bath_gas[0]\n",
    "        bath_gas_bond_length = {'H2': 0.743, 'N2': 1.1, 'O2': 1.208}  # Angstrom\n",
    "        xyz = add_bath_gas_to_xyz(xyz, symbol, cm, r - 0.5 * bath_gas_bond_length[bath_gas])\n",
    "        xyz = add_bath_gas_to_xyz(xyz, symbol, cm, r + 0.5 * bath_gas_bond_length[bath_gas])\n",
    "    else:\n",
    "        xyz = add_bath_gas_to_xyz(xyz, bath_gas, cm, r)\n",
    "    draw_3d(xyz=xyz, species=spc)\n",
    "\n",
    "\n",
    "def add_bath_gas_to_xyz(xyz, symbol, cm, r):\n",
    "    \"\"\"\n",
    "    Add an atom (bath gas) at distance r from the center of mass to xyz and return xyz.\n",
    "\n",
    "    Args:\n",
    "        xyz (dict): The coordinates to process.\n",
    "        symbol (str): The bath gas atom symbol.\n",
    "        cm (tuple): The center of mass coordinates.\n",
    "        r (float): The bath gas distance from the species' center of mass.\n",
    "\n",
    "    Returns:\n",
    "        dict: The xyz coordinates.\n",
    "    \"\"\"\n",
    "    symbols = xyz['symbols'] + (symbol, ) * 6\n",
    "    isotopes = xyz['isotopes'] + (get_most_common_isotope_for_element(symbol), ) * 6\n",
    "    coords = [coord for coord in xyz['coords']] \\\n",
    "        + [(cm[0] + r, cm[1], cm[2])] \\\n",
    "        + [(cm[0], cm[1] + r, cm[2])] \\\n",
    "        + [(cm[0], cm[1], cm[2] + r)] \\\n",
    "        + [(cm[0] - r, cm[1], cm[2])] \\\n",
    "        + [(cm[0], cm[1] - r, cm[2])] \\\n",
    "        + [(cm[0], cm[1], cm[2] - r)]\n",
    "    xyz = xyz_from_data(coords=coords, symbols=symbols, isotopes=isotopes)\n",
    "    return xyz\n",
    "\n",
    "\n",
    "spc = ARCSpecies(label=label, xyz=xyz)\n",
    "\n",
    "print(f'Species {label} has a radius of {spc.radius:.2f} Angstrom')\n",
    "\n",
    "print(f'\\n\\nr_min: {r_min} Angstrom')\n",
    "plot_collider(spc, r_min, bath_gas)\n",
    "print(f'\\n\\nr_max: {r_max} Angstrom')\n",
    "plot_collider(spc, r_max, bath_gas)"
   ]
  },
  {
   "cell_type": "code",
   "execution_count": null,
   "metadata": {},
   "outputs": [],
   "source": []
  }
 ],
 "metadata": {
  "kernelspec": {
   "display_name": "Python 3",
   "language": "python",
   "name": "python3"
  },
  "language_info": {
   "codemirror_mode": {
    "name": "ipython",
    "version": 3
   },
   "file_extension": ".py",
   "mimetype": "text/x-python",
   "name": "python",
   "nbconvert_exporter": "python",
   "pygments_lexer": "ipython3",
   "version": "3.7.7"
  }
 },
 "nbformat": 4,
 "nbformat_minor": 2
}
