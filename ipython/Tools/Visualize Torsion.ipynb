{
 "cells": [
  {
   "cell_type": "markdown",
   "metadata": {},
   "source": [
    "# ARC Tools\n",
    "### Visualize a torsional scan"
   ]
  },
  {
   "cell_type": "code",
   "execution_count": null,
   "metadata": {},
   "outputs": [],
   "source": [
    "path = '/path/to/ESS/rotor/scan/output/file/output.out'"
   ]
  },
  {
   "cell_type": "code",
   "execution_count": null,
   "metadata": {},
   "outputs": [],
   "source": [
    "from arkane.statmech import determine_qm_software\n",
    "import numpy as np\n",
    "import rmgpy.constants as constants\n",
    "import matplotlib.pyplot as plt\n",
    "import math\n",
    "from arc.species import determine_rotor_symmetry\n",
    "%matplotlib notebook\n",
    "\n",
    "log = Log(path='')\n",
    "\n",
    "software_log = determine_qm_software(fullpath=path)\n",
    "v_list, angle = software_log.loadScanEnergies()\n",
    "angle = angle * 180 / math.pi\n",
    "v_list = np.array(v_list, np.float64)\n",
    "v_list = v_list * 0.001  # convert to kJ/mol\n",
    "\n",
    "plt.figure(num=None, figsize=(4, 3), dpi=120, facecolor='w', edgecolor='k')\n",
    "plt.plot(angle ,v_list,'g.')\n",
    "plt.xlabel('dihedral (deg)')\n",
    "plt.xlim = (0,360)\n",
    "plt.xticks(np.arange(0, 361, step=60))\n",
    "plt.ylabel('V (kJ/mol)')\n",
    "plt.tight_layout()\n",
    "plt.show()\n",
    "\n",
    "symmetry = determine_rotor_symmetry(rotor_path=path, label='label', pivots=[3,4])\n",
    "\n",
    "print 'symmetry: ', symmetry, ' max E (kJ/mol): {0:.2f}'.format(1), '\\n\\n'\n",
    "\n",
    "print v_list"
   ]
  }
 ],
 "metadata": {
  "kernelspec": {
   "display_name": "Python 2",
   "language": "python",
   "name": "python2"
  },
  "language_info": {
   "codemirror_mode": {
    "name": "ipython",
    "version": 2
   },
   "file_extension": ".py",
   "mimetype": "text/x-python",
   "name": "python",
   "nbconvert_exporter": "python",
   "pygments_lexer": "ipython2",
   "version": "2.7.16"
  }
 },
 "nbformat": 4,
 "nbformat_minor": 2
}
