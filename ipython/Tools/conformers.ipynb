{
 "cells": [
  {
   "cell_type": "markdown",
   "metadata": {},
   "source": [
    "# ARC Tools\n",
    "### Visuallize 2D torsion scan"
   ]
  },
  {
   "cell_type": "markdown",
   "metadata": {},
   "source": [
    "#### input parameters:"
   ]
  },
  {
   "cell_type": "code",
   "execution_count": 1,
   "metadata": {},
   "outputs": [],
   "source": [
    "smiles = 'OOCC[O]'"
   ]
  },
  {
   "cell_type": "code",
   "execution_count": 2,
   "metadata": {
    "scrolled": false
   },
   "outputs": [
    {
     "name": "stderr",
     "output_type": "stream",
     "text": [
      "WARNING:root:No kyotocabinet available\n"
     ]
    },
    {
     "data": {
      "image/png": "[encoded data removed]",
      "text/plain": [
       "Molecule(smiles=\"[O]CCOO\")"
      ]
     },
     "metadata": {},
     "output_type": "display_data"
    },
    {
     "name": "stdout",
     "output_type": "stream",
     "text": [
      "Generating conformers for spc1\n",
      "Species spc1 has 5 heavy atoms and 3 torsions. Using 100 random conformers.\n"
     ]
    },
    {
     "data": {
      "image/png": "[encoded data removed]",
      "text/plain": [
       "<Figure size 960x540 with 3 Axes>"
      ]
     },
     "metadata": {
      "needs_background": "light"
     },
     "output_type": "display_data"
    },
    {
     "name": "stdout",
     "output_type": "stream",
     "text": [
      "\n",
      "Hypothetical number of conformer combinations for spc1: 36\n",
      "original lowest conformer for spc1:\n"
     ]
    },
    {
     "data": {
      "application/3dmoljs_load.v0": "<div id=\"3dmolviewer_15699377063848739\"  style=\"position: relative; width: 400px; height: 400px\">\n        <p id=\"3dmolwarning_15699377063848739\" style=\"background-color:#ffcccc;color:black\">You appear to be running in JupyterLab (or JavaScript failed to load for some other reason).  You need to install the 3dmol extension: <br>\n        <tt>jupyter labextension install jupyterlab_3dmol</tt></p>\n        </div>\n<script>\n\nvar loadScriptAsync = function(uri){\n  return new Promise((resolve, reject) => {\n    var tag = document.createElement('script');\n    tag.src = uri;\n    tag.async = true;\n    tag.onload = () => {\n      resolve();\n    };\n  var firstScriptTag = document.getElementsByTagName('script')[0];\n  firstScriptTag.parentNode.insertBefore(tag, firstScriptTag);\n});\n};\n\nif(typeof $3Dmolpromise === 'undefined') {\n$3Dmolpromise = null;\n  $3Dmolpromise = loadScriptAsync('https://3dmol.csb.pitt.edu/build/3Dmol.js');\n}\n\nvar viewer_15699377063848739 = null;\nvar warn = document.getElementById(\"3dmolwarning_15699377063848739\");\nif(warn) {\n    warn.parentNode.removeChild(warn);\n}\n$3Dmolpromise.then(function() {\nviewer_15699377063848739 = $3Dmol.createViewer($(\"#3dmolviewer_15699377063848739\"),{backgroundColor:\"white\"});\n\tviewer_15699377063848739.addModel(\"\\n     RDKit          3D\\n\\n 10  9  0  0  0  0  0  0  0  0999 V2000\\n    1.1673   -0.8028   -0.5794 O   0  0  0  0  0  0  0  0  0  0  0  0\\n    2.0601    0.0324    0.2335 O   0  0  0  0  0  0  0  0  0  0  0  0\\n   -0.2015    1.5543    0.4854 O   0  0  0  0  0  1  0  0  0  0  0  0\\n   -0.1204   -0.7578    0.0646 C   0  0  0  0  0  0  0  0  0  0  0  0\\n   -0.8406    0.6021   -0.1904 C   0  0  0  0  0  0  0  0  0  0  0  0\\n   -0.7159   -1.5630   -0.3804 H   0  0  0  0  0  0  0  0  0  0  0  0\\n   -0.0099   -0.9878    1.1328 H   0  0  0  0  0  0  0  0  0  0  0  0\\n   -1.8939    0.4111    0.0686 H   0  0  0  0  0  0  0  0  0  0  0  0\\n   -0.8894    0.6971   -1.2869 H   0  0  0  0  0  0  0  0  0  0  0  0\\n    1.4444    0.8144    0.2984 H   0  0  0  0  0  0  0  0  0  0  0  0\\n  1  4  1  0\\n  1  2  1  0\\n  2 10  1  0\\n  3  5  1  0\\n  4  5  1  0\\n  4  6  1  0\\n  4  7  1  0\\n  5  8  1  0\\n  5  9  1  0\\nM  RAD  1   3   2\\nM  END\\n\",\"sdf\");\n\tviewer_15699377063848739.setStyle({\"stick\": {}});\n\tviewer_15699377063848739.zoomTo();\nviewer_15699377063848739.render();\n});\n</script>",
      "text/html": [
       "<div id=\"3dmolviewer_15699377063848739\"  style=\"position: relative; width: 400px; height: 400px\">\n",
       "        <p id=\"3dmolwarning_15699377063848739\" style=\"background-color:#ffcccc;color:black\">You appear to be running in JupyterLab (or JavaScript failed to load for some other reason).  You need to install the 3dmol extension: <br>\n",
       "        <tt>jupyter labextension install jupyterlab_3dmol</tt></p>\n",
       "        </div>\n",
       "<script>\n",
       "\n",
       "var loadScriptAsync = function(uri){\n",
       "  return new Promise((resolve, reject) => {\n",
       "    var tag = document.createElement('script');\n",
       "    tag.src = uri;\n",
       "    tag.async = true;\n",
       "    tag.onload = () => {\n",
       "      resolve();\n",
       "    };\n",
       "  var firstScriptTag = document.getElementsByTagName('script')[0];\n",
       "  firstScriptTag.parentNode.insertBefore(tag, firstScriptTag);\n",
       "});\n",
       "};\n",
       "\n",
       "if(typeof $3Dmolpromise === 'undefined') {\n",
       "$3Dmolpromise = null;\n",
       "  $3Dmolpromise = loadScriptAsync('https://3dmol.csb.pitt.edu/build/3Dmol.js');\n",
       "}\n",
       "\n",
       "var viewer_15699377063848739 = null;\n",
       "var warn = document.getElementById(\"3dmolwarning_15699377063848739\");\n",
       "if(warn) {\n",
       "    warn.parentNode.removeChild(warn);\n",
       "}\n",
       "$3Dmolpromise.then(function() {\n",
       "viewer_15699377063848739 = $3Dmol.createViewer($(\"#3dmolviewer_15699377063848739\"),{backgroundColor:\"white\"});\n",
       "\tviewer_15699377063848739.addModel(\"\\n     RDKit          3D\\n\\n 10  9  0  0  0  0  0  0  0  0999 V2000\\n    1.1673   -0.8028   -0.5794 O   0  0  0  0  0  0  0  0  0  0  0  0\\n    2.0601    0.0324    0.2335 O   0  0  0  0  0  0  0  0  0  0  0  0\\n   -0.2015    1.5543    0.4854 O   0  0  0  0  0  1  0  0  0  0  0  0\\n   -0.1204   -0.7578    0.0646 C   0  0  0  0  0  0  0  0  0  0  0  0\\n   -0.8406    0.6021   -0.1904 C   0  0  0  0  0  0  0  0  0  0  0  0\\n   -0.7159   -1.5630   -0.3804 H   0  0  0  0  0  0  0  0  0  0  0  0\\n   -0.0099   -0.9878    1.1328 H   0  0  0  0  0  0  0  0  0  0  0  0\\n   -1.8939    0.4111    0.0686 H   0  0  0  0  0  0  0  0  0  0  0  0\\n   -0.8894    0.6971   -1.2869 H   0  0  0  0  0  0  0  0  0  0  0  0\\n    1.4444    0.8144    0.2984 H   0  0  0  0  0  0  0  0  0  0  0  0\\n  1  4  1  0\\n  1  2  1  0\\n  2 10  1  0\\n  3  5  1  0\\n  4  5  1  0\\n  4  6  1  0\\n  4  7  1  0\\n  5  8  1  0\\n  5  9  1  0\\nM  RAD  1   3   2\\nM  END\\n\",\"sdf\");\n",
       "\tviewer_15699377063848739.setStyle({\"stick\": {}});\n",
       "\tviewer_15699377063848739.zoomTo();\n",
       "viewer_15699377063848739.render();\n",
       "});\n",
       "</script>"
      ]
     },
     "metadata": {},
     "output_type": "display_data"
    },
    {
     "name": "stdout",
     "output_type": "stream",
     "text": [
      "Generated all combinations from scan map\n",
      "energy: 23.543187945799357\n",
      "O       1.16592633   -0.80926758   -0.59416576\n",
      "O       2.07043809    0.03662142    0.19448257\n",
      "O      -0.18457697    1.56778672    0.44954989\n",
      "C      -0.11367646   -0.75092375    0.06459509\n",
      "C      -0.83396837    0.60652049   -0.20331762\n",
      "H      -0.71641223   -1.56156699   -0.36035660\n",
      "H       0.00921595   -0.96413305    1.13483548\n",
      "H      -1.88444883    0.42223856    0.07145224\n",
      "H      -0.89587015    0.68423735   -1.30045088\n",
      "H       1.45730556    0.82098283    0.25439342\n"
     ]
    },
    {
     "data": {
      "application/3dmoljs_load.v0": "<div id=\"3dmolviewer_15699377066692872\"  style=\"position: relative; width: 400px; height: 400px\">\n        <p id=\"3dmolwarning_15699377066692872\" style=\"background-color:#ffcccc;color:black\">You appear to be running in JupyterLab (or JavaScript failed to load for some other reason).  You need to install the 3dmol extension: <br>\n        <tt>jupyter labextension install jupyterlab_3dmol</tt></p>\n        </div>\n<script>\n\nvar loadScriptAsync = function(uri){\n  return new Promise((resolve, reject) => {\n    var tag = document.createElement('script');\n    tag.src = uri;\n    tag.async = true;\n    tag.onload = () => {\n      resolve();\n    };\n  var firstScriptTag = document.getElementsByTagName('script')[0];\n  firstScriptTag.parentNode.insertBefore(tag, firstScriptTag);\n});\n};\n\nif(typeof $3Dmolpromise === 'undefined') {\n$3Dmolpromise = null;\n  $3Dmolpromise = loadScriptAsync('https://3dmol.csb.pitt.edu/build/3Dmol.js');\n}\n\nvar viewer_15699377066692872 = null;\nvar warn = document.getElementById(\"3dmolwarning_15699377066692872\");\nif(warn) {\n    warn.parentNode.removeChild(warn);\n}\n$3Dmolpromise.then(function() {\nviewer_15699377066692872 = $3Dmol.createViewer($(\"#3dmolviewer_15699377066692872\"),{backgroundColor:\"white\"});\n\tviewer_15699377066692872.addModel(\"\\n     RDKit          3D\\n\\n 10  9  0  0  0  0  0  0  0  0999 V2000\\n    1.1659   -0.8093   -0.5942 O   0  0  0  0  0  0  0  0  0  0  0  0\\n    2.0704    0.0366    0.1945 O   0  0  0  0  0  0  0  0  0  0  0  0\\n   -0.1846    1.5678    0.4495 O   0  0  0  0  0  1  0  0  0  0  0  0\\n   -0.1137   -0.7509    0.0646 C   0  0  0  0  0  0  0  0  0  0  0  0\\n   -0.8340    0.6065   -0.2033 C   0  0  0  0  0  0  0  0  0  0  0  0\\n   -0.7164   -1.5616   -0.3604 H   0  0  0  0  0  0  0  0  0  0  0  0\\n    0.0092   -0.9641    1.1348 H   0  0  0  0  0  0  0  0  0  0  0  0\\n   -1.8844    0.4222    0.0715 H   0  0  0  0  0  0  0  0  0  0  0  0\\n   -0.8959    0.6842   -1.3005 H   0  0  0  0  0  0  0  0  0  0  0  0\\n    1.4573    0.8210    0.2544 H   0  0  0  0  0  0  0  0  0  0  0  0\\n  1  4  1  0\\n  1  2  1  0\\n  2 10  1  0\\n  3  5  1  0\\n  4  5  1  0\\n  4  6  1  0\\n  4  7  1  0\\n  5  8  1  0\\n  5  9  1  0\\nM  RAD  1   3   2\\nM  END\\n\",\"sdf\");\n\tviewer_15699377066692872.setStyle({\"stick\": {}});\n\tviewer_15699377066692872.zoomTo();\nviewer_15699377066692872.render();\n});\n</script>",
      "text/html": [
       "<div id=\"3dmolviewer_15699377066692872\"  style=\"position: relative; width: 400px; height: 400px\">\n",
       "        <p id=\"3dmolwarning_15699377066692872\" style=\"background-color:#ffcccc;color:black\">You appear to be running in JupyterLab (or JavaScript failed to load for some other reason).  You need to install the 3dmol extension: <br>\n",
       "        <tt>jupyter labextension install jupyterlab_3dmol</tt></p>\n",
       "        </div>\n",
       "<script>\n",
       "\n",
       "var loadScriptAsync = function(uri){\n",
       "  return new Promise((resolve, reject) => {\n",
       "    var tag = document.createElement('script');\n",
       "    tag.src = uri;\n",
       "    tag.async = true;\n",
       "    tag.onload = () => {\n",
       "      resolve();\n",
       "    };\n",
       "  var firstScriptTag = document.getElementsByTagName('script')[0];\n",
       "  firstScriptTag.parentNode.insertBefore(tag, firstScriptTag);\n",
       "});\n",
       "};\n",
       "\n",
       "if(typeof $3Dmolpromise === 'undefined') {\n",
       "$3Dmolpromise = null;\n",
       "  $3Dmolpromise = loadScriptAsync('https://3dmol.csb.pitt.edu/build/3Dmol.js');\n",
       "}\n",
       "\n",
       "var viewer_15699377066692872 = null;\n",
       "var warn = document.getElementById(\"3dmolwarning_15699377066692872\");\n",
       "if(warn) {\n",
       "    warn.parentNode.removeChild(warn);\n",
       "}\n",
       "$3Dmolpromise.then(function() {\n",
       "viewer_15699377066692872 = $3Dmol.createViewer($(\"#3dmolviewer_15699377066692872\"),{backgroundColor:\"white\"});\n",
       "\tviewer_15699377066692872.addModel(\"\\n     RDKit          3D\\n\\n 10  9  0  0  0  0  0  0  0  0999 V2000\\n    1.1659   -0.8093   -0.5942 O   0  0  0  0  0  0  0  0  0  0  0  0\\n    2.0704    0.0366    0.1945 O   0  0  0  0  0  0  0  0  0  0  0  0\\n   -0.1846    1.5678    0.4495 O   0  0  0  0  0  1  0  0  0  0  0  0\\n   -0.1137   -0.7509    0.0646 C   0  0  0  0  0  0  0  0  0  0  0  0\\n   -0.8340    0.6065   -0.2033 C   0  0  0  0  0  0  0  0  0  0  0  0\\n   -0.7164   -1.5616   -0.3604 H   0  0  0  0  0  0  0  0  0  0  0  0\\n    0.0092   -0.9641    1.1348 H   0  0  0  0  0  0  0  0  0  0  0  0\\n   -1.8844    0.4222    0.0715 H   0  0  0  0  0  0  0  0  0  0  0  0\\n   -0.8959    0.6842   -1.3005 H   0  0  0  0  0  0  0  0  0  0  0  0\\n    1.4573    0.8210    0.2544 H   0  0  0  0  0  0  0  0  0  0  0  0\\n  1  4  1  0\\n  1  2  1  0\\n  2 10  1  0\\n  3  5  1  0\\n  4  5  1  0\\n  4  6  1  0\\n  4  7  1  0\\n  5  8  1  0\\n  5  9  1  0\\nM  RAD  1   3   2\\nM  END\\n\",\"sdf\");\n",
       "\tviewer_15699377066692872.setStyle({\"stick\": {}});\n",
       "\tviewer_15699377066692872.zoomTo();\n",
       "viewer_15699377066692872.render();\n",
       "});\n",
       "</script>"
      ]
     },
     "metadata": {},
     "output_type": "display_data"
    },
    {
     "data": {
      "text/plain": [
       "<Figure size 432x288 with 0 Axes>"
      ]
     },
     "metadata": {},
     "output_type": "display_data"
    }
   ],
   "source": [
    "from arc.plotter import show_sticks\n",
    "from arc.species.converter import xyz_to_str\n",
    "from IPython.display import display\n",
    "from arc.species.species import ARCSpecies\n",
    "from arc.species.conformers import generate_conformers\n",
    "%matplotlib inline\n",
    "\n",
    "spc1 = ARCSpecies(label='spc1', smiles=smiles)\n",
    "display(spc1.mol)\n",
    "mol_list = spc1.mol_list\n",
    "lowest_confs = generate_conformers(mol_list=spc1.mol_list, label=spc1.label,\n",
    "                                              charge=spc1.charge, multiplicity=spc1.multiplicity,\n",
    "                                              force_field='MMFF94', print_logs=True,\n",
    "                                              num_confs_to_return=5, return_all_conformers=False,\n",
    "                                              plot_path='confs')\n",
    "for conf in lowest_confs:\n",
    "    print(conf['source'])\n",
    "    print('energy: {0}'.format(conf['FF energy']))\n",
    "    print(xyz_to_str(conf['xyz']))\n",
    "    show_sticks(xyz=conf['xyz'])"
   ]
  },
  {
   "cell_type": "code",
   "execution_count": null,
   "metadata": {},
   "outputs": [],
   "source": []
  }
 ],
 "metadata": {
  "kernelspec": {
   "display_name": "Python 3",
   "language": "python",
   "name": "python3"
  },
  "language_info": {
   "codemirror_mode": {
    "name": "ipython",
    "version": 3
   },
   "file_extension": ".py",
   "mimetype": "text/x-python",
   "name": "python",
   "nbconvert_exporter": "python",
   "pygments_lexer": "ipython3",
   "version": "3.7.4"
  }
 },
 "nbformat": 4,
 "nbformat_minor": 2
}
