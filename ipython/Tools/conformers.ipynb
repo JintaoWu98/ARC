{
 "cells": [
  {
   "cell_type": "markdown",
   "metadata": {},
   "source": [
    "# ARC Tools\n",
    "### Generate conformers"
   ]
  },
  {
   "cell_type": "markdown",
   "metadata": {},
   "source": [
    "#### input parameters:"
   ]
  },
  {
   "cell_type": "code",
   "execution_count": null,
   "metadata": {},
   "outputs": [],
   "source": [
    "smiles = 'OOCC[O]'"
   ]
  },
  {
   "cell_type": "code",
   "execution_count": null,
   "metadata": {
    "scrolled": false
   },
   "outputs": [],
   "source": [
    "from arc.plotter import draw_structure\n",
    "from arc.species.converter import xyz_to_str\n",
    "from IPython.display import display\n",
    "from arc.species.species import ARCSpecies\n",
    "from arc.species.conformers import generate_conformers\n",
    "%matplotlib inline\n",
    "\n",
    "spc1 = ARCSpecies(label='spc1', smiles=smiles)  # don't forget to specify the net charge for charged species\n",
    "display(spc1.mol)\n",
    "mol_list = spc1.mol_list if spc1.mol_list else [spc1.mol]\n",
    "lowest_confs = generate_conformers(mol_list=mol_list, label=spc1.label,\n",
    "                                   charge=spc1.charge, multiplicity=spc1.multiplicity,\n",
    "                                   force_field='MMFF94s', print_logs=True,\n",
    "                                   num_confs_to_return=5, return_all_conformers=False,\n",
    "                                   plot_path='confs', use_zmats=True)\n",
    "for conf in lowest_confs:\n",
    "    print(conf['source'])\n",
    "    print('energy: {0}'.format(conf['FF energy']))\n",
    "    print(xyz_to_str(conf['xyz']))\n",
    "    draw_structure(xyz=conf['xyz'])"
   ]
  },
  {
   "cell_type": "code",
   "execution_count": null,
   "metadata": {},
   "outputs": [],
   "source": []
  }
 ],
 "metadata": {
  "kernelspec": {
   "display_name": "Python 3",
   "language": "python",
   "name": "python3"
  },
  "language_info": {
   "codemirror_mode": {
    "name": "ipython",
    "version": 3
   },
   "file_extension": ".py",
   "mimetype": "text/x-python",
   "name": "python",
   "nbconvert_exporter": "python",
   "pygments_lexer": "ipython3",
   "version": "3.7.5"
  }
 },
 "nbformat": 4,
 "nbformat_minor": 2
}
