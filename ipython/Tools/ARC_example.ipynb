{
 "cells": [
  {
   "cell_type": "code",
   "execution_count": 2,
   "metadata": {},
   "outputs": [],
   "source": [
    "from arc import ARC\n",
    "from arc.species import ARCSpecies\n",
    "from arc.reaction import ARCReaction"
   ]
  },
  {
   "cell_type": "code",
   "execution_count": 7,
   "metadata": {},
   "outputs": [
    {
     "name": "stderr",
     "output_type": "stream",
     "text": [
      "Warning: :root:An instance of RMGDatabase already exists. Re-initializing it.\n"
     ]
    },
    {
     "name": "stdout",
     "output_type": "stream",
     "text": [
      "\n",
      "Considering the following job types: ['conformers', 'opt', 'freq', 'sp', 'rotors', 'irc', 'fine']\n",
      "\n",
      "ARC execution initiated on Fri Jun 26 14:40:24 2020\n",
      "\n",
      "###############################################################\n",
      "#                                                             #\n",
      "#                 Automatic Rate Calculator                   #\n",
      "#                            ARC                              #\n",
      "#                                                             #\n",
      "#   Version: 1.1.0                                            #\n",
      "#                                                             #\n",
      "###############################################################\n",
      "\n",
      "The current git HEAD for ARC is:\n",
      "    9b4fbfe7d07e06b48ef5943165599f64c37b7070\n",
      "    Fri Jun 12 16:11:41 2020 -0400\n",
      "    (running on the del_perserve_dist branch)\n",
      "\n",
      "Starting project ArcDemo\n",
      "\n",
      "Using the following ESS settings:\n",
      "{'gaussian': ['local']}\n",
      "\n",
      "\n",
      "\n",
      "Using the following levels of theory:\n",
      "\n",
      "Conformers: (default) wb97xd/def2svp, software: gaussian (dft)\n",
      "TS guesses: (default) wb97xd/def2svp, software: gaussian (dft)\n",
      "Geometry optimization: wb97xd/def2tzvp, software: gaussian (dft)\n",
      "Frequencies: (user-defined opt) wb97xd/def2tzvp, software: gaussian (dft)\n",
      "Energy: wb97xd/augccpvtz, software: gaussian (dft)\n",
      "Rotor scans: (user-defined opt) wb97xd/def2tzvp, software: gaussian (dft)\n",
      "IRC: (default) wb97xd/def2tzvp, software: gaussian (dft)\n",
      "\n",
      "\n",
      "Writing input file to demo/arc_demo_input.yml\n"
     ]
    }
   ],
   "source": [
    "spc1 = ARCSpecies(label='peroxyl_rad', smiles='NCCC(O[O])N(C)C')\n",
    "\n",
    "spc2 = ARCSpecies(label='ch2_rad', smiles='NCCC(OO)N(C)[CH2]')\n",
    "\n",
    "rxn1 = ARCReaction(label='peroxyl_rad <=> ch2_rad', ts_xyz_guess='ts1016.log')\n",
    "\n",
    "# ess_settings = {'gaussian': 'txe1'}\n",
    "ess_settings = {'gaussian': 'local'}\n",
    "\n",
    "job_types = {'conformers': True,\n",
    "             'opt': True,\n",
    "             'fine_grid': True,\n",
    "             'freq': True,\n",
    "             'bde': False,\n",
    "             'sp': True,\n",
    "             'rotors': True,\n",
    "             'irc': True,\n",
    "            }\n",
    "\n",
    "arc_object = ARC(project='ArcDemo',\n",
    "                 species=[spc1, spc2],\n",
    "                 reactions=[rxn1],\n",
    "                 ess_settings=ess_settings,\n",
    "                 job_types=job_types,\n",
    "                 opt_level='wb97xd/def2tzvp',\n",
    "                 sp_level='wb97xd/augccpvtz',\n",
    "                )\n",
    "\n",
    "arc_object.write_input_file(path='demo/arc_demo_input.yml')"
   ]
  },
  {
   "cell_type": "code",
   "execution_count": null,
   "metadata": {},
   "outputs": [],
   "source": []
  }
 ],
 "metadata": {
  "kernelspec": {
   "display_name": "Python 3",
   "language": "python",
   "name": "python3"
  },
  "language_info": {
   "codemirror_mode": {
    "name": "ipython",
    "version": 3
   },
   "file_extension": ".py",
   "mimetype": "text/x-python",
   "name": "python",
   "nbconvert_exporter": "python",
   "pygments_lexer": "ipython3",
   "version": "3.7.6"
  }
 },
 "nbformat": 4,
 "nbformat_minor": 2
}
