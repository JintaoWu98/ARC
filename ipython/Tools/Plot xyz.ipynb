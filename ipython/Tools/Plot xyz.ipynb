{
 "cells": [
  {
   "cell_type": "markdown",
   "metadata": {},
   "source": [
    "# ARC Tools\n",
    "### Plot 3D coordinates"
   ]
  },
  {
   "cell_type": "markdown",
   "metadata": {},
   "source": [
    "#### input parameters:"
   ]
  },
  {
   "cell_type": "code",
   "execution_count": null,
   "metadata": {},
   "outputs": [],
   "source": [
    "xyz = \"\"\"\n",
    "O       1.17464110   -0.15309781    0.00000000\n",
    "N       0.06304988    0.35149648    0.00000000\n",
    "C      -1.12708952   -0.11333971    0.00000000\n",
    "H      -1.93800144    0.60171738    0.00000000\n",
    "H      -1.29769464   -1.18742971    0.00000000\n",
    "\"\"\""
   ]
  },
  {
   "cell_type": "code",
   "execution_count": null,
   "metadata": {},
   "outputs": [],
   "source": [
    "from arc.plotter import draw_3d, show_sticks, plot_3d_mol_as_scatter\n",
    "from arc.species.converter import check_xyz_dict, molecules_from_xyz\n",
    "from arc.species.converter import xyz_to_pybel_mol, pybel_to_inchi\n",
    "from IPython.display import display\n",
    "%matplotlib inline\n",
    "\n",
    "xyz = check_xyz_dict(xyz)"
   ]
  },
  {
   "cell_type": "code",
   "execution_count": null,
   "metadata": {},
   "outputs": [],
   "source": [
    "# Analyze graph\n",
    "\n",
    "s_mol, b_mol = molecules_from_xyz(xyz)\n",
    "mol = b_mol or s_mol\n",
    "print(mol.to_smiles())\n",
    "print('\\n')\n",
    "print(pybel_to_inchi(xyz_to_pybel_mol(xyz)))\n",
    "print('\\n')\n",
    "print(mol.to_adjacency_list())\n",
    "print('\\n')\n",
    "display(mol)"
   ]
  },
  {
   "cell_type": "code",
   "execution_count": null,
   "metadata": {},
   "outputs": [],
   "source": [
    "show_sticks(xyz)"
   ]
  },
  {
   "cell_type": "code",
   "execution_count": null,
   "metadata": {},
   "outputs": [],
   "source": [
    "draw_3d(xyz)"
   ]
  },
  {
   "cell_type": "code",
   "execution_count": null,
   "metadata": {},
   "outputs": [],
   "source": [
    "plot_3d_mol_as_scatter(xyz)"
   ]
  }
 ],
 "metadata": {
  "kernelspec": {
   "display_name": "Python 3",
   "language": "python",
   "name": "python3"
  },
  "language_info": {
   "codemirror_mode": {
    "name": "ipython",
    "version": 3
   },
   "file_extension": ".py",
   "mimetype": "text/x-python",
   "name": "python",
   "nbconvert_exporter": "python",
   "pygments_lexer": "ipython3",
   "version": "3.7.5"
  }
 },
 "nbformat": 4,
 "nbformat_minor": 2
}
