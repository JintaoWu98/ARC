{
 "cells": [
  {
   "cell_type": "markdown",
   "metadata": {},
   "source": [
    "# ARC Tools\n",
    "### Plot 3D coordinates"
   ]
  },
  {
   "cell_type": "code",
   "execution_count": null,
   "metadata": {},
   "outputs": [],
   "source": [
    "xyz = \"\"\"\n",
    "C       1.00749012    0.07872046    0.03791885\n",
    "C       0.48062281   -1.18732352    0.62821530\n",
    "C      -0.81593564   -1.48451129    0.76677988\n",
    "H       0.67999858    0.19592331   -1.00028033\n",
    "H       0.67999730    0.94931172    0.61555547\n",
    "H       2.10239374    0.06632262    0.04370027\n",
    "H       1.21076637   -1.91583774    0.96788621\n",
    "\"\"\""
   ]
  },
  {
   "cell_type": "code",
   "execution_count": null,
   "metadata": {},
   "outputs": [],
   "source": [
    "from arc.plotter import draw_3d, show_sticks\n",
    "from arc.species.converter import standardize_xyz_string, molecules_from_xyz\n",
    "from arc.species.converter import xyz_to_pybel_mol, pybel_to_inchi\n",
    "from IPython.display import display\n",
    "\n",
    "xyz = standardize_xyz_string(xyz)"
   ]
  },
  {
   "cell_type": "code",
   "execution_count": null,
   "metadata": {},
   "outputs": [],
   "source": [
    "# Analyze graph\n",
    "\n",
    "s_mol, b_mol = molecules_from_xyz(xyz)\n",
    "mol = b_mol or s_mol\n",
    "print mol.toSMILES()\n",
    "print('\\n')\n",
    "print pybel_to_inchi(xyz_to_pybel_mol(xyz))\n",
    "print('\\n')\n",
    "print mol.toAdjacencyList()\n",
    "print('\\n')\n",
    "display(mol)"
   ]
  },
  {
   "cell_type": "code",
   "execution_count": null,
   "metadata": {},
   "outputs": [],
   "source": [
    "success = show_sticks(xyz=xyz)"
   ]
  },
  {
   "cell_type": "code",
   "execution_count": null,
   "metadata": {},
   "outputs": [],
   "source": [
    "draw_3d(xyz=xyz)"
   ]
  }
 ],
 "metadata": {
  "kernelspec": {
   "display_name": "Python 2",
   "language": "python",
   "name": "python2"
  },
  "language_info": {
   "codemirror_mode": {
    "name": "ipython",
    "version": 2
   },
   "file_extension": ".py",
   "mimetype": "text/x-python",
   "name": "python",
   "nbconvert_exporter": "python",
   "pygments_lexer": "ipython2",
   "version": "2.7.16"
  }
 },
 "nbformat": 4,
 "nbformat_minor": 2
}
