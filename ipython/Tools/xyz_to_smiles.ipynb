{
  "cells": [
    {
      "cell_type": "markdown",
      "metadata": {
        "pycharm": {}
      },
      "source": "# ARC Tools\n### Convert xyz coordinates to SMILES"
    },
    {
      "cell_type": "code",
      "execution_count": null,
      "metadata": {
        "pycharm": {}
      },
      "outputs": [],
      "source": "from arc.species.converter import molecules_from_xyz\nfrom IPython.display import display\n\nxyz \u003d \"\"\"C\t0.7016210\t-0.8239730\t0.0000000\nO\t0.2212140\t-1.9437480\t0.0000000\nN\t0.0000000\t0.3448120\t0.0000000\nC\t-1.4542820\t0.3350170\t0.0000000\nC\t0.6543520\t1.6364050\t0.0000000\nH\t1.7968090\t-0.6524620\t0.0000000\nH\t-1.7802780\t-0.7056490\t0.0000000\nH\t-1.8463230\t0.8389980\t0.8932890\nH\t-1.8463230\t0.8389980\t-0.8932890\nH\t1.7395870\t1.4960250\t0.0000000\nH\t0.3783390\t2.2178500\t-0.8910160\nH\t0.3783390\t2.2178500\t0.8910160\"\"\"\n\ns_mol, b_mol \u003d molecules_from_xyz(xyz)\n\nprint \u0027SMILES: \u0027, b_mol.toSMILES()\n\ndisplay(b_mol)\n"
    }
  ],
  "metadata": {
    "kernelspec": {
      "display_name": "Python 2",
      "language": "python",
      "name": "python2"
    },
    "language_info": {
      "codemirror_mode": {
        "name": "ipython",
        "version": 2
      },
      "file_extension": ".py",
      "mimetype": "text/x-python",
      "name": "python",
      "nbconvert_exporter": "python",
      "pygments_lexer": "ipython2",
      "version": "2.7.16"
    }
  },
  "nbformat": 4,
  "nbformat_minor": 2
}