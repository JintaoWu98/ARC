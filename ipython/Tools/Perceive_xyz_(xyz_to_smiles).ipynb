{
 "cells": [
  {
   "cell_type": "markdown",
   "metadata": {
    "pycharm": {}
   },
   "source": [
    "# ARC Tools\n",
    "### Convert xyz coordinates to SMILES"
   ]
  },
  {
   "cell_type": "markdown",
   "metadata": {},
   "source": [
    "#### input parameters\n",
    "`coords` could be either Cartesian or internal coordinates (in either a string or an ARC dictionary format)"
   ]
  },
  {
   "cell_type": "code",
   "execution_count": 1,
   "metadata": {},
   "outputs": [],
   "source": [
    "coords = \"\"\"C 0.7016210 -0.8239730 0.0000000\n",
    "O 0.2212140 -1.9437480 0.0000000\n",
    "N 0.0000000 0.3448120 0.0000000\n",
    "C -1.4542820 0.3350170 0.0000000\n",
    "C 0.6543520 1.6364050 0.0000000\n",
    "H 1.7968090 -0.6524620 0.0000000\n",
    "H -1.7802780 -0.7056490 0.0000000\n",
    "H -1.8463230 0.8389980 0.8932890\n",
    "H -1.8463230 0.8389980 -0.8932890\n",
    "H 1.7395870 1.4960250 0.0000000\n",
    "H 0.3783390 2.2178500 -0.8910160\n",
    "H 0.3783390 2.2178500 0.8910160\"\"\""
   ]
  },
  {
   "cell_type": "code",
   "execution_count": 2,
   "metadata": {
    "pycharm": {}
   },
   "outputs": [
    {
     "name": "stdout",
     "output_type": "stream",
     "text": [
      "SMILES: O=CN(C)C\n"
     ]
    },
    {
     "data": {
      "image/png": "[encoded data removed]",
      "text/plain": [
       "Molecule(smiles=\"O=CN(C)C\")"
      ]
     },
     "metadata": {},
     "output_type": "display_data"
    }
   ],
   "source": [
    "from arc.species.converter import molecules_from_xyz, check_xyz_dict\n",
    "from IPython.display import display\n",
    "\n",
    "\n",
    "s_mol, b_mol = molecules_from_xyz(check_xyz_dict(coords))\n",
    "\n",
    "print(f'SMILES: {b_mol.to_smiles()}')\n",
    "\n",
    "display(b_mol)"
   ]
  },
  {
   "cell_type": "code",
   "execution_count": null,
   "metadata": {},
   "outputs": [],
   "source": []
  }
 ],
 "metadata": {
  "kernelspec": {
   "display_name": "Python 3",
   "language": "python",
   "name": "python3"
  },
  "language_info": {
   "codemirror_mode": {
    "name": "ipython",
    "version": 3
   },
   "file_extension": ".py",
   "mimetype": "text/x-python",
   "name": "python",
   "nbconvert_exporter": "python",
   "pygments_lexer": "ipython3",
   "version": "3.7.6"
  }
 },
 "nbformat": 4,
 "nbformat_minor": 2
}
