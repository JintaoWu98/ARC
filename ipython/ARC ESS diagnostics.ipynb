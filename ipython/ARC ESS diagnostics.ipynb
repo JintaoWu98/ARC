{
 "cells": [
  {
   "cell_type": "code",
   "execution_count": 1,
   "metadata": {},
   "outputs": [
    {
     "name": "stderr",
     "output_type": "stream",
     "text": [
      "Using Theano backend.\n"
     ]
    },
    {
     "name": "stdout",
     "output_type": "stream",
     "text": [
      "ARC execution initiated on Tue Jun  4 10:43:03 2019\n",
      "\n",
      "###############################################################\n",
      "#                                                             #\n",
      "#                 Automatic Rate Calculator                   #\n",
      "#                            ARC                              #\n",
      "#                                                             #\n",
      "#   Version: 1.0.0                                            #\n",
      "#                                                             #\n",
      "###############################################################\n",
      "\n",
      "The current git HEAD for ARC is:\n",
      "    7e3cc3b3be02b926d33d3fd066ee9c1d60f12b2f\n",
      "    Mon Jun 3 17:17:32 2019 -0400\n",
      "\n",
      "Starting project Diagnostics\n",
      "Using default level b3lyp/6-31+g(d,p) for refined conformer searches (after filtering via force fields)\n",
      "Using default level b3lyp/6-31+g(d,p) for TS guesses comparison of different methods\n",
      "Using default level wb97xd/6-311++g(d,p) for geometry optimizations\n",
      "Using default level wb97xd/6-311++g(d,p) for frequency calculations\n",
      "Using default level ccsd(t)-f12/cc-pvtz-f12 for single point calculations\n",
      "Using default level wb97xd/6-311++g(d,p) for rotor scans\n",
      "\n",
      "Using the following ESS settings:\n",
      "{'gaussian': ['pharos']}\n",
      "\n",
      "Using ccsd(t)-f12/cc-pvtz-f12 as model chemistry for energy corrections in Arkane\n",
      "\n",
      "\n",
      "\n",
      " ***** Running ESS diagnostics: *****\n",
      "\n",
      "Found the following ESS on the local machine:\n",
      "[u'orca']\n",
      "\n",
      "\n",
      "\n",
      "\n",
      "Mapping servers...\n",
      "\n",
      "\n",
      "Trying pharos\n",
      "  Found Gaussian on pharos: g03=[], g09=[], g16=[u'/opt/g16/g16\\n']\n",
      "  Did NOT find QChem on pharos\n",
      "  Did NOT find Orca on pharos\n",
      "  Did NOT find Molpro on pharos\n",
      "\n",
      "Trying rmg\n",
      "  Found Gaussian on rmg: g03=[], g09=[], g16=[u'/opt/g16/g16\\n']\n",
      "  Did NOT find QChem on rmg\n",
      "  Found Orca on rmg\n",
      "  Did NOT find Molpro on rmg\n",
      "\n",
      "\n",
      "\n",
      "Using Gaussian on ['pharos', 'rmg']\n",
      "Using QChem on []\n",
      "Using Orca on [u'local', 'rmg']\n",
      "Using Molpro on []\n",
      "\n",
      "\n",
      "ESS diagnostics completed (elapsed time: 00:00:13)\n"
     ]
    }
   ],
   "source": [
    "import arc\n",
    "\n",
    "arc0 = arc.ARC(project='Diagnostics')\n",
    "arc0.determine_ess_settings(diagnostics=True)"
   ]
  },
  {
   "cell_type": "code",
   "execution_count": null,
   "metadata": {},
   "outputs": [],
   "source": []
  }
 ],
 "metadata": {
  "kernelspec": {
   "display_name": "Python 2",
   "language": "python",
   "name": "python2"
  },
  "language_info": {
   "codemirror_mode": {
    "name": "ipython",
    "version": 2
   },
   "file_extension": ".py",
   "mimetype": "text/x-python",
   "name": "python",
   "nbconvert_exporter": "python",
   "pygments_lexer": "ipython2",
   "version": "2.7.16"
  }
 },
 "nbformat": 4,
 "nbformat_minor": 2
}
