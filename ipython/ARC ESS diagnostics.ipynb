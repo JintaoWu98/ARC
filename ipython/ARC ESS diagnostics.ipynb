{
 "cells": [
  {
   "cell_type": "code",
   "execution_count": 1,
   "metadata": {},
   "outputs": [
    {
     "name": "stderr",
     "output_type": "stream",
     "text": [
      "Using Theano backend.\n"
     ]
    },
    {
     "name": "stdout",
     "output_type": "stream",
     "text": [
      "ARC execution initiated on Mon Dec 24 11:35:41 2018\n",
      "\n",
      "###############################################################\n",
      "#                                                             #\n",
      "#                            ARC                              #\n",
      "#                                                             #\n",
      "#   Version: 0.1                                              #\n",
      "#                                                             #\n",
      "###############################################################\n",
      "\n",
      "Starting project Diagnostics\n",
      "\n",
      "\n",
      "Executing QM jobs remotely. Mapping servers...\n",
      "Using Gaussian on pharos\n",
      "Using QChem on pharos\n",
      "Using Molpro on pharos\n",
      "\n",
      "\n",
      "Using default level b97-d3/6-311+g(d,p) for refined conformer searches (after filtering via force fields)\n",
      "Using default level wb97x-d3/6-311+g(d,p) for geometry optimizations\n",
      "Using default level wb97x-d3/6-311+g(d,p) for frequency calculations\n",
      "Using default level ccsd(t)-f12/cc-pvtz-f12 for single point calculations\n",
      "Using ccsd(t)-f12/cc-pvtz-f12 as model chemistry for energy corrections in Arkane\n",
      "Using default level b3lyp/6-311+g(d,p) for rotor scans\n",
      "\n",
      "\n",
      "\n",
      " ***** Runnigng ESS diagnostics: *****\n",
      "ARC is being excecuted on a PC (did not find \"SSH_CONNECTION\" in the os.environ dictionary\n",
      "\n",
      "\n",
      "Executing QM jobs remotely. Mapping servers...\n",
      "Trying pharos\n",
      "Found Gaussian on pharos: g03=[u'/opt/g03/g03\\n'], g09=[u'/usr/local/EStokTP/exe/g09\\n'], g16=[]\n",
      "Found QChem on pharos\n",
      "Found Molpro on pharos\n",
      "Trying rmg\n",
      "Did NOT find Gaussian on rmg: g03=[], g09=[], g16=[]\n",
      "Did NOT find QChem on rmg\n",
      "Did NOT find Molpro on rmg\n",
      "Using Gaussian on pharos\n",
      "Using QChem on pharos\n",
      "Using Molpro on pharos\n",
      "\n",
      "\n",
      "ESS diagnostics completed\n"
     ]
    }
   ],
   "source": [
    "import arc\n",
    "\n",
    "arc0 = arc.ARC(project='Diagnostics')\n",
    "arc0.determine_remote(diagnostics=True)"
   ]
  },
  {
   "cell_type": "code",
   "execution_count": null,
   "metadata": {},
   "outputs": [],
   "source": []
  }
 ],
 "metadata": {
  "kernelspec": {
   "display_name": "rmg_env",
   "language": "python",
   "name": "rmg_env"
  },
  "language_info": {
   "codemirror_mode": {
    "name": "ipython",
    "version": 2
   },
   "file_extension": ".py",
   "mimetype": "text/x-python",
   "name": "python",
   "nbconvert_exporter": "python",
   "pygments_lexer": "ipython2",
   "version": "2.7.15"
  }
 },
 "nbformat": 4,
 "nbformat_minor": 2
}
